{
 "cells": [
  {
   "cell_type": "markdown",
   "metadata": {},
   "source": [
    "# Feature Extraction\n",
    "\n",
    "The images that are to be classified have a fixed size of 128x32 pixels and contain for numbers, each number has a fixed size of 32x32 pixels. The alphanumerical part of the zip code is already extracted."
   ]
  },
  {
   "cell_type": "markdown",
   "metadata": {},
   "source": [
    "## Imports"
   ]
  },
  {
   "cell_type": "code",
   "execution_count": 1,
   "metadata": {},
   "outputs": [],
   "source": [
    "from SimpleCV import *\n",
    "from SimpleCV import Color, Image\n",
    "import matplotlib.pyplot as plt\n",
    "import numpy as np\n",
    "import pandas as pd\n",
    "\n",
    "disp = Display(displaytype='notebook')"
   ]
  },
  {
   "cell_type": "markdown",
   "metadata": {},
   "source": [
    "## Seperating the numbers\n",
    "\n",
    "\n",
    "### Transform the numbers\n",
    "Using binarization, erosion and dilation to be able to extract the numbers as good as possible.\n",
    "\n",
    "To find the right combination we tried the following variations:\n",
    "    - test_img1.binarize()\n",
    "To give all the numbers the same appearance (black and white). It makes alle the numbers look even, there is no difference in  brightness, contrast or hue anymore per image/number.\n",
    "\n",
    "    - test_img1.binarize().dilate()\n",
    "Some numbers are quite thin or are not complete (lines are broken), dilation ensures that the lines will be thickened. Which decreases the risk of broken lines, but increases the risk of the numbers becoming to thick to read (makes it harder to differentiate the shape to a number). \n",
    "\n",
    "    - test_img1.binarize().erode()\n",
    "Some numbers are to thick or have bulges. Erosion slims the thick lines and removes most of the bulges. This increases the readability of the numbers if numbers were thicker but decrease the readability of the numbers if these were already thin (gaps might appear).\n",
    "\n",
    "    - test_img1.binarize().erode().dilate()\n",
    "Using the sequence binarize, erode and dilate leads to numbers being the right thickness, but some numberes still contain broken lines. Numbers with holes (like the number eight) are more prone to broken lines. \n",
    "\n",
    "\n",
    "The combination that worked best is: \n",
    "    - test_img1.binarize().dilate().erode()\n",
    "Using the sequence binarize, dilate and erode leads to the numbers being the most readable. There are as little as possible broken lines and the lines have a nice thickness. "
   ]
  },
  {
   "cell_type": "code",
   "execution_count": 2,
   "metadata": {},
   "outputs": [
    {
     "data": {
      "image/png": "[encoded data removed]",
      "text/plain": [
       "<IPython.core.display.Image object>"
      ]
     },
     "metadata": {},
     "output_type": "display_data"
    },
    {
     "data": {
      "image/png": "[encoded data removed]",
      "text/plain": [
       "<IPython.core.display.Image object>"
      ]
     },
     "metadata": {},
     "output_type": "display_data"
    },
    {
     "data": {
      "image/png": "[encoded data removed]",
      "text/plain": [
       "<IPython.core.display.Image object>"
      ]
     },
     "metadata": {},
     "output_type": "display_data"
    },
    {
     "data": {
      "image/png": "[encoded data removed]",
      "text/plain": [
       "<IPython.core.display.Image object>"
      ]
     },
     "metadata": {},
     "output_type": "display_data"
    },
    {
     "data": {
      "image/png": "[encoded data removed]",
      "text/plain": [
       "<IPython.core.display.Image object>"
      ]
     },
     "metadata": {},
     "output_type": "display_data"
    },
    {
     "data": {
      "image/png": "[encoded data removed]",
      "text/plain": [
       "<IPython.core.display.Image object>"
      ]
     },
     "metadata": {},
     "output_type": "display_data"
    },
    {
     "data": {
      "image/png": "[encoded data removed]",
      "text/plain": [
       "<IPython.core.display.Image object>"
      ]
     },
     "metadata": {},
     "output_type": "display_data"
    },
    {
     "data": {
      "image/png": "[encoded data removed]",
      "text/plain": [
       "<IPython.core.display.Image object>"
      ]
     },
     "metadata": {},
     "output_type": "display_data"
    },
    {
     "data": {
      "image/png": "[encoded data removed]",
      "text/plain": [
       "<IPython.core.display.Image object>"
      ]
     },
     "metadata": {},
     "output_type": "display_data"
    },
    {
     "data": {
      "image/png": "[encoded data removed]",
      "text/plain": [
       "<IPython.core.display.Image object>"
      ]
     },
     "metadata": {},
     "output_type": "display_data"
    },
    {
     "data": {
      "image/png": "[encoded data removed]",
      "text/plain": [
       "<IPython.core.display.Image object>"
      ]
     },
     "metadata": {},
     "output_type": "display_data"
    },
    {
     "data": {
      "image/png": "[encoded data removed]",
      "text/plain": [
       "<IPython.core.display.Image object>"
      ]
     },
     "metadata": {},
     "output_type": "display_data"
    }
   ],
   "source": [
    "test_img1 = Image(\"../dataset-images/7531.png\")\n",
    "\n",
    "test_img1.save(disp)\n",
    "test_img1.binarize().save(disp)\n",
    "test_img1.binarize().erode().save(disp)\n",
    "test_img1.binarize().dilate().save(disp)\n",
    "test_img1.binarize().erode().dilate().save(disp)\n",
    "test_img1.binarize().dilate().erode().save(disp)\n",
    "\n",
    "test_img2 = Image(\"../dataset-images/2984.png\")\n",
    "\n",
    "test_img2.save(disp)\n",
    "test_img2.binarize().save(disp)\n",
    "test_img2.binarize().erode().save(disp)\n",
    "test_img2.binarize().dilate().save(disp)\n",
    "test_img2.binarize().erode().dilate().save(disp)\n",
    "test_img2.binarize().dilate().erode().save(disp)"
   ]
  },
  {
   "cell_type": "markdown",
   "metadata": {},
   "source": [
    "### Filename extraction\n",
    "The filename of the image contains the numbers that are presented in the image. Therefore we need to strip the filename, so that only the numbers remain. \n",
    "\n",
    "The filename must be exracted in the same cell as that the image is read into. Once the image is passed on via a variable to a new cell, the filename consists of the filelocation in Jupyter memory. "
   ]
  },
  {
   "cell_type": "code",
   "execution_count": 3,
   "metadata": {},
   "outputs": [],
   "source": [
    "def process_image(image, filename):\n",
    "    processed_filename = filename.strip('../dataset-images/').rstrip('.png')\n",
    "    processed_image = image.binarize().dilate().erode()\n",
    "    \n",
    "    return processed_image, processed_filename"
   ]
  },
  {
   "cell_type": "markdown",
   "metadata": {},
   "source": [
    "### Number extraction\n",
    "\n",
    "Individualize the numbers by dividing the initial image (128x32 px) in four equal pieces of 32x32 px. The label for the numbers are connected as well.\n",
    "\n",
    "At every 32 pixels at the x position in the image there is a new number. We are individualizing the number by cropping it out of the image."
   ]
  },
  {
   "cell_type": "code",
   "execution_count": 4,
   "metadata": {},
   "outputs": [],
   "source": [
    "def individual_numbers(filename, image):\n",
    "    numbers = []\n",
    "    xpos = 0\n",
    "    for char in filename:\n",
    "        crop = image.crop(xpos, 0, 32, 32, centered=False)\n",
    "#         crop.save(disp)\n",
    "        xpos += 32\n",
    "        \n",
    "        number = [char, crop, filename]\n",
    "        numbers.append(number)\n",
    "        \n",
    "    return numbers"
   ]
  },
  {
   "cell_type": "markdown",
   "metadata": {},
   "source": [
    "# Dataset 1: vision based\n",
    "The first dataset will be created on the basis of vision based features.\n",
    "\n",
    "The seven features chosen are:\n",
    "- witdh\n",
    "- height\n",
    "- aspect ratio\n",
    "- area\n",
    "- amount of holes\n",
    "- angle\n",
    "- radius\n",
    "- contour\n",
    "- hull radius\n",
    "\n",
    "### Extract blobs\n",
    "By extracting the blobs from the individual numbers we are able to gather information from the number itsself only. Using the findBlobs() method on the individulaized numbers. The only blob that is found is the number itsself.\n",
    "\n",
    "#### Simple CV own methods\n",
    "SimpleCV contains some methods to get information from a blob: width, height, area, angel, radius, contour.\n",
    "\n",
    "#### Amount of holes\n",
    "To be able to get the amount of holes within a number we had to create a method of our own. \n",
    "\n",
    "First, we invert the color and embiggen the number image, so that a border is created around the number and the image colors are inverted. \n",
    "\n",
    "Next we can use findBlobs() on the inverted image. We will find at least 1 blob (the outside of the number), and more if the number contains holes (6, 8, 9, 0, (4 sometimes)).\n",
    "\n",
    "Discard the outside of the number, because all numbers have this in common, it doesn't contribute to distinguish the numbers.\n",
    "\n",
    "We can distuinguish the blobs by area size. 3721 is the smallest area size for the outside blob. The smaller area sizes are the actual holes within a number.\n"
   ]
  },
  {
   "cell_type": "code",
   "execution_count": 5,
   "metadata": {},
   "outputs": [],
   "source": [
    "def get_amount_of_holes(image):\n",
    "    inverted = image.embiggen(2).invert()\n",
    "    \n",
    "    holes = 0\n",
    "    inv_blobs = inverted.findBlobs()\n",
    "    for blob in inv_blobs:\n",
    "        if blob.area() < 3721:\n",
    "            holes += 1\n",
    "    return(holes)"
   ]
  },
  {
   "cell_type": "code",
   "execution_count": 6,
   "metadata": {},
   "outputs": [],
   "source": [
    "def get_blobs_from_number(number):\n",
    "#     number[1] contains the image of the individual number\n",
    "    blobs = number[1].findBlobs()\n",
    "    \n",
    "    number.append(get_amount_of_holes(number[1]))\n",
    "                  \n",
    "    for blob in blobs:\n",
    "        number.append(blob.width())\n",
    "        number.append(blob.height())\n",
    "        number.append(blob.aspectRatio())\n",
    "        number.append(float(blob.area()))\n",
    "        number.append(blob.angle())\n",
    "        number.append(blob.radius())\n",
    "        number.append(len(blob.contour()))\n",
    "        number.append(blob.hullRadius())\n",
    "        \n",
    "    return number"
   ]
  },
  {
   "cell_type": "markdown",
   "metadata": {},
   "source": [
    "# Sample output\n",
    "By running the code below you will see the data that is generated for one serie of postalcode numbers.\n",
    "\n",
    "Processing the image will result in a binarized, dilated and eroded image and the corresponding stripped filename."
   ]
  },
  {
   "cell_type": "code",
   "execution_count": 7,
   "metadata": {},
   "outputs": [
    {
     "data": {
      "image/png": "[encoded data removed]",
      "text/plain": [
       "<IPython.core.display.Image object>"
      ]
     },
     "metadata": {},
     "output_type": "display_data"
    },
    {
     "data": {
      "image/png": "[encoded data removed]",
      "text/plain": [
       "<IPython.core.display.Image object>"
      ]
     },
     "metadata": {},
     "output_type": "display_data"
    },
    {
     "name": "stdout",
     "output_type": "stream",
     "text": [
      "7531\n"
     ]
    },
    {
     "data": {
      "image/png": "[encoded data removed]",
      "text/plain": [
       "<IPython.core.display.Image object>"
      ]
     },
     "metadata": {},
     "output_type": "display_data"
    },
    {
     "data": {
      "image/png": "[encoded data removed]",
      "text/plain": [
       "<IPython.core.display.Image object>"
      ]
     },
     "metadata": {},
     "output_type": "display_data"
    },
    {
     "name": "stdout",
     "output_type": "stream",
     "text": [
      "2984\n"
     ]
    }
   ],
   "source": [
    "test_img1 = Image(\"../dataset-images/7531.png\")\n",
    "test_img2 = Image(\"../dataset-images/2984.png\")\n",
    "\n",
    "processed_img1, filename1 = process_image(test_img1, test_img1.filename)\n",
    "processed_img2, filename2 = process_image(test_img2, test_img2.filename)\n",
    "\n",
    "test_img1.save(disp)\n",
    "processed_img1.save(disp)\n",
    "print(filename1)\n",
    "\n",
    "test_img2.save(disp)\n",
    "processed_img2.save(disp)\n",
    "print(filename2)"
   ]
  },
  {
   "cell_type": "markdown",
   "metadata": {},
   "source": [
    "Seperate the postalcode to individual numbers. \n",
    "\n",
    "The output for all the numbers in the postal code is:\n",
    "\n",
    "label, individual number image, filename"
   ]
  },
  {
   "cell_type": "code",
   "execution_count": 8,
   "metadata": {},
   "outputs": [
    {
     "name": "stdout",
     "output_type": "stream",
     "text": [
      "[['2', <SimpleCV.Image Object size:(32, 32), filename: (None), at memory location: (0x7f61ce5545f0)>, '2984'], ['9', <SimpleCV.Image Object size:(32, 32), filename: (None), at memory location: (0x7f61ce5549e0)>, '2984'], ['8', <SimpleCV.Image Object size:(32, 32), filename: (None), at memory location: (0x7f61ce554a28)>, '2984'], ['4', <SimpleCV.Image Object size:(32, 32), filename: (None), at memory location: (0x7f61ce554950)>, '2984']]\n"
     ]
    }
   ],
   "source": [
    "numbers = individual_numbers(filename2, processed_img2)\n",
    "print(numbers)"
   ]
  },
  {
   "cell_type": "markdown",
   "metadata": {},
   "source": [
    "Extract all the features from the numbers.\n",
    "\n",
    "The output for all the numbers in the postal code with features is:\n",
    "\n",
    "label, individual number image, filename, number of holes, width, height, aspectRatio, area, angle, radius, contour, hullRadius."
   ]
  },
  {
   "cell_type": "code",
   "execution_count": 9,
   "metadata": {
    "scrolled": true
   },
   "outputs": [
    {
     "name": "stdout",
     "output_type": "stream",
     "text": [
      "['2', <SimpleCV.Image Object size:(32, 32), filename: (None), at memory location: (0x7f61ce5545f0)>, '2984', 0, 22, 30, 0.7241379310344828, 279.0, 90.0, 10.489068910015272, 42, 14.429263037166306]\n",
      "['9', <SimpleCV.Image Object size:(32, 32), filename: (None), at memory location: (0x7f61ce5549e0)>, '2984', 1, 22, 30, 0.6286200765162219, 280.0, 83.99099445343018, 10.680607099473749, 46, 13.77413091409462]\n",
      "['8', <SimpleCV.Image Object size:(32, 32), filename: (None), at memory location: (0x7f61ce554a28)>, '2984', 2, 18, 30, 0.5862068965517241, 340.0, 90.0, 10.333892846225941, 38, 14.317962160249719]\n",
      "['4', <SimpleCV.Image Object size:(32, 32), filename: (None), at memory location: (0x7f61ce554950)>, '2984', 0, 22, 30, 1.2611941169114915, 268.0, -51.34019470214844, 9.790972120199077, 51, 12.556052824554959]\n"
     ]
    }
   ],
   "source": [
    "for number in numbers:\n",
    "    number_w_features = get_blobs_from_number(number)\n",
    "    print(number_w_features)"
   ]
  },
  {
   "cell_type": "markdown",
   "metadata": {},
   "source": [
    "The data for all the numbers of a postalcode looks like:"
   ]
  },
  {
   "cell_type": "code",
   "execution_count": 10,
   "metadata": {},
   "outputs": [
    {
     "name": "stdout",
     "output_type": "stream",
     "text": [
      "[['2', <SimpleCV.Image Object size:(32, 32), filename: (None), at memory location: (0x7f61ce5545f0)>, '2984', 0, 22, 30, 0.7241379310344828, 279.0, 90.0, 10.489068910015272, 42, 14.429263037166306], ['9', <SimpleCV.Image Object size:(32, 32), filename: (None), at memory location: (0x7f61ce5549e0)>, '2984', 1, 22, 30, 0.6286200765162219, 280.0, 83.99099445343018, 10.680607099473749, 46, 13.77413091409462], ['8', <SimpleCV.Image Object size:(32, 32), filename: (None), at memory location: (0x7f61ce554a28)>, '2984', 2, 18, 30, 0.5862068965517241, 340.0, 90.0, 10.333892846225941, 38, 14.317962160249719], ['4', <SimpleCV.Image Object size:(32, 32), filename: (None), at memory location: (0x7f61ce554950)>, '2984', 0, 22, 30, 1.2611941169114915, 268.0, -51.34019470214844, 9.790972120199077, 51, 12.556052824554959]]\n"
     ]
    }
   ],
   "source": [
    "print(numbers)"
   ]
  },
  {
   "cell_type": "markdown",
   "metadata": {},
   "source": [
    "# Prepare the feature data\n",
    "Since we do not need the individual number image in the dataset, it is going to be deleted form the array."
   ]
  },
  {
   "cell_type": "code",
   "execution_count": 11,
   "metadata": {},
   "outputs": [],
   "source": [
    "def remove_img_from_data(number):\n",
    "    del number[1]"
   ]
  },
  {
   "cell_type": "markdown",
   "metadata": {},
   "source": [
    "Above we have created and explained all the parts for the following method: individual_numbers_with_features(). It is an combination of:\n",
    "- individual_numbers(numbers)\n",
    "- get_blobs_from_number(number)\n",
    "- remove_img_from_data(number)"
   ]
  },
  {
   "cell_type": "code",
   "execution_count": 12,
   "metadata": {},
   "outputs": [],
   "source": [
    "def individual_numbers_with_vision_features(filename, image):\n",
    "    numbers = []\n",
    "    xpos = 0\n",
    "    for char in filename:\n",
    "        crop = image.crop(xpos, 0, 32, 32, centered=False)\n",
    "#         crop.save(disp)\n",
    "        xpos += 32\n",
    "        number = [char, crop, filename]\n",
    "        numbers.append(number)\n",
    "        \n",
    "        get_blobs_from_number(number)\n",
    "        \n",
    "        remove_img_from_data(number)\n",
    "    \n",
    "    return numbers"
   ]
  },
  {
   "cell_type": "code",
   "execution_count": 13,
   "metadata": {},
   "outputs": [
    {
     "name": "stdout",
     "output_type": "stream",
     "text": [
      "[['7', '7531', 0, 19, 30, 0.6206896551724138, 292.0, 90.0, 9.763018565028554, 56, 13.636211509057295], ['5', '7531', 0, 20, 30, 0.6551724137931034, 262.5, 90.0, 10.705248815558898, 46, 15.139601562229391], ['3', '7531', 0, 18, 30, 0.5840219914863184, 212.5, 87.70938992500305, 10.126949252617072, 49, 13.437598976300153], ['1', '7531', 0, 16, 30, 0.5172413793103449, 277.5, 90.0, 10.000944603899285, 41, 13.302011424040476]]\n"
     ]
    }
   ],
   "source": [
    "result = individual_numbers_with_vision_features(filename1, processed_img1)\n",
    "print(result)"
   ]
  },
  {
   "cell_type": "markdown",
   "metadata": {},
   "source": [
    "# Dataset 1 - Program to execute\n",
    "Execute the program below to run the code for all postalcodes within the data-images folder.\n",
    "\n",
    "First we read in all the images from the \"dataset-images\" folder.\n",
    "Then we open an outputfile to write our data to and add the labels of the columns.\n",
    "\n",
    "for every image that is retrieved from the \"dataset-images\" folder we process the image and its filename. Continued by retrieving the individual numbers with features. Then the feature information per number is written to the outputfile. \n",
    "\n",
    "Once all the images are read, processed and written to the outputfile, the outputfile is closed. "
   ]
  },
  {
   "cell_type": "markdown",
   "metadata": {},
   "source": [
    "### Build header\n",
    "Build the header of the vision dataset. It contains the label, filename, number_of_holes, width, height, aspect_ratio, area, angle, radius, contour and hull_radius."
   ]
  },
  {
   "cell_type": "code",
   "execution_count": 14,
   "metadata": {},
   "outputs": [],
   "source": [
    "def build_vision_header():\n",
    "    header = []\n",
    "    header.append('label')\n",
    "    header.append('filename')\n",
    "    header.append('number_of_holes')\n",
    "    header.append('width')\n",
    "    header.append('height')\n",
    "    header.append('aspect_ratio')\n",
    "    header.append('area')\n",
    "    header.append('angle')\n",
    "    header.append('radius')\n",
    "    header.append('contour')\n",
    "    header.append('hull_radius')\n",
    "    \n",
    "    return header"
   ]
  },
  {
   "cell_type": "code",
   "execution_count": 15,
   "metadata": {},
   "outputs": [],
   "source": [
    "def program_dataset_vision():\n",
    "    img_dir = \"../dataset-images/\"\n",
    "    extension = \"*.png\"\n",
    "\n",
    "    if not img_dir:\n",
    "        path = os.getcwd()\n",
    "    else:\n",
    "        path = img_dir\n",
    "    \n",
    "    directory = os.path.join(path, extension)\n",
    "    files = glob.glob(directory)\n",
    "\n",
    "    dataset_file = open(\"../dataset-numpy/dataset-vision.csv\", \"w\")\n",
    "\n",
    "    header = build_vision_header()\n",
    "    \n",
    "    for item in header:\n",
    "        dataset_file.writelines(str(item) + \",\")\n",
    "    dataset_file.write('\\n')\n",
    "\n",
    "    for file in files:\n",
    "        new_img = Image(file)\n",
    "        time.sleep(1)\n",
    "    \n",
    "        processed_img, processed_filename = process_image(new_img, file)\n",
    "    \n",
    "        number_per_postal = individual_numbers_with_vision_features(processed_filename, processed_img)\n",
    "    \n",
    "        for number in number_per_postal:\n",
    "            for item in number:\n",
    "                dataset_file.writelines(str(item) + \",\")\n",
    "            dataset_file.write(\"\\n\")\n",
    "    \n",
    "    dataset_file.close()"
   ]
  },
  {
   "cell_type": "code",
   "execution_count": 16,
   "metadata": {},
   "outputs": [],
   "source": [
    "# program_dataset_vision()"
   ]
  },
  {
   "cell_type": "markdown",
   "metadata": {},
   "source": [
    "# Dataset 2: Pixel based features\n",
    "The second dataset will be created on pixel based features. Using a grid layout."
   ]
  },
  {
   "cell_type": "markdown",
   "metadata": {},
   "source": [
    "### Imports"
   ]
  },
  {
   "cell_type": "code",
   "execution_count": 17,
   "metadata": {},
   "outputs": [],
   "source": [
    "from SimpleCV import *\n",
    "from SimpleCV import Color, Image\n",
    "import matplotlib.pyplot as plt\n",
    "import numpy as np\n",
    "import pandas as pd\n",
    "\n",
    "disp = Display(displaytype='notebook')"
   ]
  },
  {
   "cell_type": "code",
   "execution_count": 18,
   "metadata": {
    "scrolled": true
   },
   "outputs": [
    {
     "name": "stdout",
     "output_type": "stream",
     "text": [
      "[238 238 238 ..., 229 229 229]\n",
      "['2', <SimpleCV.Image Object size:(32, 32), filename: (None), at memory location: (0x7f61ce4e7488)>, '2984']\n",
      "['9', <SimpleCV.Image Object size:(32, 32), filename: (None), at memory location: (0x7f61ce4e71b8)>, '2984']\n",
      "['8', <SimpleCV.Image Object size:(32, 32), filename: (None), at memory location: (0x7f61ce4e78c0)>, '2984']\n",
      "['4', <SimpleCV.Image Object size:(32, 32), filename: (None), at memory location: (0x7f61ce4e7950)>, '2984']\n"
     ]
    }
   ],
   "source": [
    "test_img1 = Image(\"../dataset-images/2984.png\")\n",
    "\n",
    "pixels = np.array(test_img1.getNumpy().flatten())\n",
    "print(pixels)\n",
    "\n",
    "processed_img, processed_filename = process_image(test_img1, test_img1.filename)\n",
    "\n",
    "number_per_postal = individual_numbers(processed_filename, processed_img)\n",
    "\n",
    "for number in number_per_postal:\n",
    "    print(number)"
   ]
  },
  {
   "cell_type": "markdown",
   "metadata": {},
   "source": [
    "# Extract pixel per cell\n",
    "\n",
    "### Pixels\n",
    "Since we are using a binarized image the possible color values are 0 or 255. White pixels have a value of 255, black pixels have a value of 0. To make the pixel_array per grid_cell more readable we divide the values in the array by 255, which results in 0 for black pixels and 1 for white pixels. If we sum the pixels now, we can exactly see how many white pixels a cell contains."
   ]
  },
  {
   "cell_type": "code",
   "execution_count": 19,
   "metadata": {},
   "outputs": [],
   "source": [
    "def get_amount_white_pixel_per_number(image, grid_cell_amount, threshold):\n",
    "    grid_cell_size = 32 / grid_cell_amount\n",
    "    \n",
    "    matrix = np.zeros((grid_cell_amount, grid_cell_amount))\n",
    "    T = threshold\n",
    "    \n",
    "    for y in range(grid_cell_amount):\n",
    "        for x in range(grid_cell_amount):\n",
    "            grid_cell = image.crop(x * grid_cell_size, y * grid_cell_size, grid_cell_size, grid_cell_size)\n",
    "            pixel_arr = grid_cell.getNumpy() / 255\n",
    "            sum = (pixel_arr[:,:,0]).sum()\n",
    "            matrix[x][y] = sum if sum > T else 0\n",
    "            \n",
    "    return matrix.T"
   ]
  },
  {
   "cell_type": "code",
   "execution_count": 20,
   "metadata": {},
   "outputs": [
    {
     "name": "stdout",
     "output_type": "stream",
     "text": [
      "[[  0.   0.  16.  11.   0.   0.   0.   0.]\n",
      " [  0.   9.  13.  12.   9.   0.   0.   0.]\n",
      " [  0.  10.  10.  10.  16.  10.   0.   0.]\n",
      " [  0.   0.  14.  16.  16.  12.   0.   0.]\n",
      " [  0.   0.   0.   0.   6.  14.   0.   0.]\n",
      " [  0.   0.   0.   0.   0.  14.   0.   0.]\n",
      " [  0.   0.  11.   0.   0.   8.  12.   0.]\n",
      " [  0.   0.   8.  16.  16.  16.  12.   0.]]\n"
     ]
    },
    {
     "name": "stderr",
     "output_type": "stream",
     "text": [
      "/usr/local/lib/python2.7/dist-packages/SimpleCV/ImageClass.py:1970: FutureWarning: elementwise comparison failed; returning scalar instead, but in the future will perform elementwise comparison\n",
      "  if self._numpy != \"\":\n"
     ]
    }
   ],
   "source": [
    "# threshold = 5\n",
    "image_pix = get_amount_white_pixel_per_number(number_per_postal[1][1], 8, 5)\n",
    "print(image_pix)"
   ]
  },
  {
   "cell_type": "markdown",
   "metadata": {},
   "source": [
    "### Threshold\n",
    "The threshold is the amount of white pixels that needs to be exceeded before the sum is taken into account. This way random or divergent pixels are excluded from the pixel_weight of a grid_cell. The threshold can not be to high either, because then you are excluding to many pixels from the pixel_weight of the grid_cell.\n",
    "\n",
    "Looking at the tests below we can conclude that '5' will be the best threshold for our case.\n",
    "\n",
    "This since there are fewer random/divergent pixels compared to a threshold of 3 or 4 (coordinate 3,6). But there are more pixels taken in account compared to a threshold of 6 or 7 (coordinate 4,4)."
   ]
  },
  {
   "cell_type": "code",
   "execution_count": 21,
   "metadata": {},
   "outputs": [
    {
     "data": {
      "image/png": "[encoded data removed]",
      "text/plain": [
       "<Figure size 432x288 with 1 Axes>"
      ]
     },
     "metadata": {
      "needs_background": "light"
     },
     "output_type": "display_data"
    },
    {
     "data": {
      "image/png": "[encoded data removed]",
      "text/plain": [
       "<Figure size 432x288 with 1 Axes>"
      ]
     },
     "metadata": {
      "needs_background": "light"
     },
     "output_type": "display_data"
    },
    {
     "data": {
      "image/png": "[encoded data removed]",
      "text/plain": [
       "<Figure size 432x288 with 1 Axes>"
      ]
     },
     "metadata": {
      "needs_background": "light"
     },
     "output_type": "display_data"
    },
    {
     "data": {
      "image/png": "[encoded data removed]",
      "text/plain": [
       "<Figure size 432x288 with 1 Axes>"
      ]
     },
     "metadata": {
      "needs_background": "light"
     },
     "output_type": "display_data"
    },
    {
     "data": {
      "image/png": "[encoded data removed]",
      "text/plain": [
       "<Figure size 432x288 with 1 Axes>"
      ]
     },
     "metadata": {
      "needs_background": "light"
     },
     "output_type": "display_data"
    }
   ],
   "source": [
    "# threshold = 3\n",
    "image_pix = get_amount_white_pixel_per_number(number_per_postal[1][1], 8, 3)\n",
    "plt.imshow(image_pix, cmap='Blues', interpolation='nearest')\n",
    "plt.show()\n",
    "\n",
    "# threshold = 4\n",
    "image_pix = get_amount_white_pixel_per_number(number_per_postal[1][1], 8, 4)\n",
    "plt.imshow(image_pix, cmap='Blues', interpolation='nearest')\n",
    "plt.show()\n",
    "\n",
    "# threshold = 5\n",
    "image_pix = get_amount_white_pixel_per_number(number_per_postal[1][1], 8, 5)\n",
    "plt.imshow(image_pix, cmap='Blues', interpolation='nearest')\n",
    "plt.show()\n",
    "\n",
    "# threshold = 6\n",
    "image_pix = get_amount_white_pixel_per_number(number_per_postal[1][1], 8, 6)\n",
    "plt.imshow(image_pix, cmap='Blues', interpolation='nearest')\n",
    "plt.show()\n",
    "\n",
    "# threshold = 7\n",
    "image_pix = get_amount_white_pixel_per_number(number_per_postal[1][1], 8, 7)\n",
    "plt.imshow(image_pix, cmap='Blues', interpolation='nearest')\n",
    "plt.show()"
   ]
  },
  {
   "cell_type": "markdown",
   "metadata": {},
   "source": [
    "### Grid size\n",
    "The image of an individual number is 32px by 32px. During testing we varied between several grid_cell_amounts and found that 8 is the best amount of cells to divide the image into. It looks like a low resolution image of a number, where you can still recognize the number, but it is not overly defined."
   ]
  },
  {
   "cell_type": "code",
   "execution_count": 22,
   "metadata": {},
   "outputs": [
    {
     "data": {
      "image/png": "[encoded data removed]",
      "text/plain": [
       "<Figure size 432x288 with 1 Axes>"
      ]
     },
     "metadata": {
      "needs_background": "light"
     },
     "output_type": "display_data"
    },
    {
     "data": {
      "image/png": "[encoded data removed]",
      "text/plain": [
       "<Figure size 432x288 with 1 Axes>"
      ]
     },
     "metadata": {
      "needs_background": "light"
     },
     "output_type": "display_data"
    },
    {
     "data": {
      "image/png": "[encoded data removed]",
      "text/plain": [
       "<Figure size 432x288 with 1 Axes>"
      ]
     },
     "metadata": {
      "needs_background": "light"
     },
     "output_type": "display_data"
    },
    {
     "data": {
      "image/png": "[encoded data removed]",
      "text/plain": [
       "<Figure size 432x288 with 1 Axes>"
      ]
     },
     "metadata": {
      "needs_background": "light"
     },
     "output_type": "display_data"
    }
   ],
   "source": [
    "# grid_cell_amount = 4 \n",
    "image_pix = get_amount_white_pixel_per_number(number_per_postal[1][1], 4, 5)\n",
    "plt.imshow(image_pix, cmap='Blues', interpolation='nearest')\n",
    "plt.show()\n",
    "\n",
    "# grid_cell_amount = 6 \n",
    "image_pix = get_amount_white_pixel_per_number(number_per_postal[1][1], 6, 5)\n",
    "plt.imshow(image_pix, cmap='Blues', interpolation='nearest')\n",
    "plt.show()\n",
    "\n",
    "# grid_cell_amount = 8 \n",
    "image_pix = get_amount_white_pixel_per_number(number_per_postal[1][1], 8, 5)\n",
    "plt.imshow(image_pix, cmap='Blues', interpolation='nearest')\n",
    "plt.show()\n",
    "\n",
    "# grid_cell_amount = 10 \n",
    "image_pix = get_amount_white_pixel_per_number(number_per_postal[1][1], 10, 5)\n",
    "plt.imshow(image_pix, cmap='Blues', interpolation='nearest')\n",
    "plt.show()"
   ]
  },
  {
   "cell_type": "markdown",
   "metadata": {},
   "source": [
    "## Prepare the feature data\n",
    "Since we do not need the individual number image in the dataset, it is going to be deleted form the array."
   ]
  },
  {
   "cell_type": "code",
   "execution_count": 23,
   "metadata": {},
   "outputs": [],
   "source": [
    "def remove_img_from_data(number):\n",
    "    del number[1]"
   ]
  },
  {
   "cell_type": "markdown",
   "metadata": {},
   "source": [
    "For each cell within the grid of a number, get the whitepixel sums."
   ]
  },
  {
   "cell_type": "code",
   "execution_count": 24,
   "metadata": {},
   "outputs": [],
   "source": [
    "def white_pixel_amount_per_cell(number, grid_cell_amount):\n",
    "    THRESHOLD = 5\n",
    "    \n",
    "    matrix = get_amount_white_pixel_per_number(number[1], grid_cell_amount, THRESHOLD)\n",
    "    \n",
    "    for y in range(grid_cell_amount):\n",
    "        for x in range(grid_cell_amount):\n",
    "            number.append(matrix[x,y])"
   ]
  },
  {
   "cell_type": "markdown",
   "metadata": {},
   "source": [
    "### Features\n",
    "Above we have created and explained all the parts for the following method: individual_numbers_with_pixel_features(). It is an combination of:\n",
    "\n",
    "individual_numbers(numbers) - as seen in preparation of Dataset-vision\n",
    "white_pixel_amount_per_cell(number, grid_cell_amount)\n",
    "remove_img_from_data(number)\n"
   ]
  },
  {
   "cell_type": "code",
   "execution_count": 25,
   "metadata": {},
   "outputs": [],
   "source": [
    "def individual_numbers_with_pixel_features(filename, image, grid_cell_amount):\n",
    "    IMG_SIZE = 32\n",
    "    numbers = []\n",
    "    xpos = 0\n",
    "    for char in filename:\n",
    "        crop = image.crop(xpos, 0, IMG_SIZE, IMG_SIZE, centered=False)\n",
    "#         crop.save(disp)\n",
    "        xpos += IMG_SIZE\n",
    "        number = [char, crop, filename]\n",
    "        numbers.append(number)\n",
    "        \n",
    "        white_pixel_amount_per_cell(number, grid_cell_amount)\n",
    "        \n",
    "        remove_img_from_data(number)\n",
    "    \n",
    "    return numbers"
   ]
  },
  {
   "cell_type": "markdown",
   "metadata": {},
   "source": [
    "# Dataset 2 - program to execute\n",
    "Execute the program below to run the code for all postalcodes within the data-images folder.\n",
    "\n",
    "Specify the grid_cell_amount when executing the program. This determines the gridsize.\n",
    "\n",
    "First we read in all the images from the \"dataset-images\" folder. Then we open an outputfile to write our data to and add the labels of the columns.\n",
    "\n",
    "for every image that is retrieved from the \"dataset-images\" folder we process the image and its filename. Continued by retrieving the individual numbers with features. Then the feature information per number is written to the outputfile.\n",
    "\n",
    "Once all the images are read, processed and written to the outputfile, the outputfile is closed."
   ]
  },
  {
   "cell_type": "markdown",
   "metadata": {},
   "source": [
    "### Header\n",
    "Build the header of the dataset. It contains the label, filename and the position of each gridcell."
   ]
  },
  {
   "cell_type": "code",
   "execution_count": 26,
   "metadata": {},
   "outputs": [],
   "source": [
    "def build_pixel_header(grid_cell_amount):\n",
    "    header = []\n",
    "    header.append('label')\n",
    "    header.append('filename')\n",
    "    \n",
    "    for y in range(grid_cell_amount):\n",
    "        for x in range(grid_cell_amount):\n",
    "            header.append(\"weight\" + str(x) + \"_\"+ str(y))\n",
    "            \n",
    "    return header"
   ]
  },
  {
   "cell_type": "code",
   "execution_count": 27,
   "metadata": {},
   "outputs": [],
   "source": [
    "def program_dataset_pixel(grid_cell_amount):\n",
    "    img_dir = \"../dataset-images/\"\n",
    "    extension = \"*.png\"\n",
    "\n",
    "    if not img_dir:\n",
    "        path = os.getcwd()\n",
    "    else:\n",
    "        path = img_dir\n",
    "    \n",
    "    directory = os.path.join(path, extension)\n",
    "    files = glob.glob(directory)\n",
    "\n",
    "    dataset_file = open(\"../dataset-numpy/dataset-pixel\" + str(grid_cell_amount) + \"x\" + str(grid_cell_amount) + \".csv\", \"w\")\n",
    "\n",
    "    for item in build_pixel_header(grid_cell_amount):\n",
    "        dataset_file.writelines(str(item) + \",\")\n",
    "    dataset_file.write('\\n')\n",
    "\n",
    "    for file in files:\n",
    "        new_img = Image(file)\n",
    "        time.sleep(1)\n",
    "    \n",
    "        processed_img, processed_filename = process_image(new_img, file)\n",
    "    \n",
    "        number_per_postal = individual_numbers_with_pixel_features(processed_filename, processed_img, grid_cell_amount)\n",
    "    \n",
    "        for number in number_per_postal:\n",
    "            for item in number:\n",
    "                dataset_file.writelines(str(item) + \",\")\n",
    "            dataset_file.write(\"\\n\")\n",
    "    \n",
    "    dataset_file.close()"
   ]
  },
  {
   "cell_type": "code",
   "execution_count": 28,
   "metadata": {},
   "outputs": [],
   "source": [
    "# program_dataset_pixel(4)"
   ]
  },
  {
   "cell_type": "code",
   "execution_count": 29,
   "metadata": {},
   "outputs": [],
   "source": [
    "# program_dataset_pixel(8)"
   ]
  }
 ],
 "metadata": {
  "kernelspec": {
   "display_name": "Python 3",
   "language": "python",
   "name": "python3"
  },
  "language_info": {
   "codemirror_mode": {
    "name": "ipython",
    "version": 3
   },
   "file_extension": ".py",
   "mimetype": "text/x-python",
   "name": "python",
   "nbconvert_exporter": "python",
   "pygments_lexer": "ipython3",
   "version": "3.7.3"
  }
 },
 "nbformat": 4,
 "nbformat_minor": 2
}
