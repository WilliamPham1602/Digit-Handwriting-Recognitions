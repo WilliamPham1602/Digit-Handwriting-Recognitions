{
 "cells": [
  {
   "cell_type": "markdown",
   "metadata": {},
   "source": [
    "# Preprocessing & Machine learning\n",
    "To be able to compare the performance of the machine learning algorightms that will be used later on several types of datasets, we are going to clean, scale datasets first. Multiple versions of the vision, pixel4x4, pixel8x8, vision-pixel4x4 and vision-pixel8x8 will be created and compared.\n",
    "\n",
    "### Imports"
   ]
  },
  {
   "cell_type": "code",
   "execution_count": 1,
   "metadata": {},
   "outputs": [],
   "source": [
    "# Tool\n",
    "import pandas as pd\n",
    "import numpy as np\n",
    "import matplotlib.pyplot as plt\n",
    "\n",
    "#Normalization & Scaling\n",
    "from sklearn.preprocessing import MinMaxScaler, RobustScaler, StandardScaler, Normalizer\n",
    "\n",
    "#Feature Selection\n",
    "from sklearn.feature_selection import SelectFromModel, SelectKBest, f_classif\n",
    "from sklearn import model_selection\n",
    "\n",
    "# Classifiers & Model\n",
    "from sklearn.neighbors import KNeighborsClassifier\n",
    "from sklearn.svm import SVC\n",
    "from sklearn.tree import DecisionTreeClassifier\n",
    "from sklearn.ensemble import RandomForestClassifier\n",
    "\n",
    "# Finding parameters\n",
    "from sklearn.pipeline import Pipeline\n",
    "from sklearn.model_selection import GridSearchCV, KFold, cross_val_score, train_test_split\n",
    "from sklearn.metrics import classification_report, accuracy_score, confusion_matrix\n",
    "import itertools\n",
    "\n",
    "# Export scaler and classifier\n",
    "from sklearn.externals import joblib"
   ]
  },
  {
   "cell_type": "code",
   "execution_count": 2,
   "metadata": {},
   "outputs": [],
   "source": [
    "df_v8x8 = pd.read_csv(\"../dataset-numpy/feature-selection/v8x8.csv\").drop(['Unnamed: 0'], axis=1)\n",
    "df_v8x8_manual1 = pd.read_csv(\"../dataset-numpy/feature-selection/v8x8-manual1.csv\").drop(['Unnamed: 0'], axis=1)\n",
    "df_v8x8_manual2 = pd.read_csv(\"../dataset-numpy/feature-selection/v8x8-manual2.csv\").drop(['Unnamed: 0'], axis=1)\n",
    "df_v8x8_sfm = pd.read_csv(\"../dataset-numpy/feature-selection/v8x8-sfm.csv\").drop(['Unnamed: 0'], axis=1)\n",
    "df_v8x8_kbest = pd.read_csv(\"../dataset-numpy/feature-selection/v8x8-kbest.csv\").drop(['Unnamed: 0'], axis=1)"
   ]
  },
  {
   "cell_type": "code",
   "execution_count": 3,
   "metadata": {},
   "outputs": [
    {
     "name": "stdout",
     "output_type": "stream",
     "text": [
      "Index([u'label', u'number_of_holes', u'width', u'height', u'aspect_ratio',\n",
      "       u'area', u'angle', u'radius', u'contour', u'hull_radius', u'weight0_0',\n",
      "       u'weight1_0', u'weight2_0', u'weight3_0', u'weight4_0', u'weight5_0',\n",
      "       u'weight6_0', u'weight7_0', u'weight0_1', u'weight1_1', u'weight2_1',\n",
      "       u'weight3_1', u'weight4_1', u'weight5_1', u'weight6_1', u'weight7_1',\n",
      "       u'weight0_2', u'weight1_2', u'weight2_2', u'weight3_2', u'weight4_2',\n",
      "       u'weight5_2', u'weight6_2', u'weight7_2', u'weight0_3', u'weight1_3',\n",
      "       u'weight2_3', u'weight3_3', u'weight4_3', u'weight5_3', u'weight6_3',\n",
      "       u'weight7_3', u'weight0_4', u'weight1_4', u'weight2_4', u'weight3_4',\n",
      "       u'weight4_4', u'weight5_4', u'weight6_4', u'weight7_4', u'weight0_5',\n",
      "       u'weight1_5', u'weight2_5', u'weight3_5', u'weight4_5', u'weight5_5',\n",
      "       u'weight6_5', u'weight7_5', u'weight0_6', u'weight1_6', u'weight2_6',\n",
      "       u'weight3_6', u'weight4_6', u'weight5_6', u'weight6_6', u'weight7_6',\n",
      "       u'weight0_7', u'weight1_7', u'weight2_7', u'weight3_7', u'weight4_7',\n",
      "       u'weight5_7', u'weight6_7', u'weight7_7'],\n",
      "      dtype='object')\n",
      "Index([u'label', u'number_of_holes', u'width', u'aspect_ratio', u'area',\n",
      "       u'angle', u'radius', u'contour', u'hull_radius', u'weight0_2',\n",
      "       u'weight1_2', u'weight2_2', u'weight3_2', u'weight4_2', u'weight5_2',\n",
      "       u'weight6_2', u'weight7_2', u'weight0_3', u'weight1_3', u'weight2_3',\n",
      "       u'weight3_3', u'weight4_3', u'weight5_3', u'weight6_3', u'weight7_3',\n",
      "       u'weight0_4', u'weight1_4', u'weight2_4', u'weight3_4', u'weight4_4',\n",
      "       u'weight5_4', u'weight6_4', u'weight7_4', u'weight0_5', u'weight1_5',\n",
      "       u'weight2_5', u'weight3_5', u'weight4_5', u'weight5_5', u'weight6_5',\n",
      "       u'weight7_5'],\n",
      "      dtype='object')\n",
      "Index([u'label', u'number_of_holes', u'width', u'height', u'aspect_ratio',\n",
      "       u'area', u'angle', u'radius', u'contour', u'hull_radius', u'weight0_1',\n",
      "       u'weight1_1', u'weight2_1', u'weight3_1', u'weight4_1', u'weight5_1',\n",
      "       u'weight6_1', u'weight7_1', u'weight0_2', u'weight1_2', u'weight2_2',\n",
      "       u'weight3_2', u'weight4_2', u'weight5_2', u'weight6_2', u'weight7_2',\n",
      "       u'weight0_3', u'weight1_3', u'weight2_3', u'weight3_3', u'weight4_3',\n",
      "       u'weight5_3', u'weight6_3', u'weight7_3', u'weight0_4', u'weight1_4',\n",
      "       u'weight2_4', u'weight3_4', u'weight4_4', u'weight5_4', u'weight6_4',\n",
      "       u'weight7_4', u'weight0_5', u'weight1_5', u'weight2_5', u'weight3_5',\n",
      "       u'weight4_5', u'weight5_5', u'weight6_5', u'weight7_5', u'weight0_6',\n",
      "       u'weight1_6', u'weight2_6', u'weight3_6', u'weight4_6', u'weight5_6',\n",
      "       u'weight6_6', u'weight7_6', u'weight0_7', u'weight1_7', u'weight6_7',\n",
      "       u'weight7_7'],\n",
      "      dtype='object')\n",
      "Index([u'label', u'number_of_holes', u'aspect_ratio', u'area', u'angle',\n",
      "       u'radius', u'contour', u'hull_radius', u'weight1_2', u'weight2_2',\n",
      "       u'weight3_2', u'weight4_2', u'weight5_2', u'weight2_3', u'weight3_3',\n",
      "       u'weight4_3', u'weight5_3', u'weight1_4', u'weight2_4', u'weight3_4',\n",
      "       u'weight4_4', u'weight5_4', u'weight6_4', u'weight7_4', u'weight0_5',\n",
      "       u'weight1_5', u'weight2_5', u'weight3_5', u'weight4_5', u'weight5_5',\n",
      "       u'weight6_5', u'weight7_5'],\n",
      "      dtype='object')\n",
      "Index([u'label', u'number_of_holes', u'area', u'radius', u'contour',\n",
      "       u'hull_radius', u'weight4_1', u'weight0_2', u'weight1_2', u'weight2_2',\n",
      "       u'weight3_2', u'weight4_2', u'weight5_2', u'weight6_2', u'weight7_2',\n",
      "       u'weight2_3', u'weight3_3', u'weight4_3', u'weight5_3', u'weight7_3',\n",
      "       u'weight2_4', u'weight3_4', u'weight4_4', u'weight5_4', u'weight7_4',\n",
      "       u'weight0_5', u'weight1_5', u'weight2_5', u'weight3_5', u'weight4_5',\n",
      "       u'weight5_5', u'weight6_5', u'weight7_5', u'weight3_6', u'weight4_6',\n",
      "       u'weight5_6', u'weight6_6', u'weight7_6'],\n",
      "      dtype='object')\n"
     ]
    }
   ],
   "source": [
    "print(df_v8x8.columns)\n",
    "print(df_v8x8_manual1.columns)\n",
    "print(df_v8x8_manual2.columns)\n",
    "print(df_v8x8_sfm.columns)\n",
    "print(df_v8x8_kbest.columns)"
   ]
  },
  {
   "cell_type": "markdown",
   "metadata": {},
   "source": [
    "## Machine learning\n",
    "\n",
    "### Preprocessing\n",
    "We need to apply a scaling technique, because most of the machine learning algorithms use Eucledian distance between two datapoints to predict labels for data. If out data contains features highly varying in magnitudes, units and range, these algorithms will only take in the magnitude of features, neglecting the units. The features with high magnitudes will weigh in a lot more in the distance calculations that features with low magnitudes.\n",
    "\n",
    "Here, we are creating an empty list to add the preprocessing (scalers and normalizers) techniques we are going to use to. "
   ]
  },
  {
   "cell_type": "code",
   "execution_count": 4,
   "metadata": {},
   "outputs": [],
   "source": [
    "pre_processing=[]\n",
    "pre_processing.append(('StandardScaler', StandardScaler()))\n",
    "pre_processing.append(('Normalizer', Normalizer()))\n",
    "pre_processing.append(('MinMaxScaler', MinMaxScaler()))"
   ]
  },
  {
   "cell_type": "markdown",
   "metadata": {},
   "source": [
    "### Algorithms\n",
    "\n",
    "Create empty lists to be able to save:\n",
    "- Machine learning models\n",
    "- Results after training\n",
    "- Names of machine learning algorithms\n",
    "- Predict scores"
   ]
  },
  {
   "cell_type": "code",
   "execution_count": 5,
   "metadata": {},
   "outputs": [],
   "source": [
    "models = []\n",
    "results = []\n",
    "names = []\n",
    "predict = []"
   ]
  },
  {
   "cell_type": "markdown",
   "metadata": {},
   "source": [
    "- #### K-Nearest Neighbours (KNN)\n",
    "KNN is essentially classification by finding the most similar datapoints in the training data and making an educated guess based on their classifications. The main-parameter of KNN is 'n_neighbours'. KNN works best on smaller datasets that do not have many features.\n",
    "\n",
    "- #### Support Vector Machine (SVM)\n",
    "Support vector machine also called as SVM is a supervised leraning algorithm. It can be used in 2 types, which are SVC and SVR. SVC is support vector classification and SVR i support vector regression. SVM is based on the idea of finding a hyperplane that best divides a dataset into two classes.\n",
    "\n",
    "\n",
    "\n",
    "- #### Decision Tree\n",
    "A decision tree can perform both regression and classification tasks. For each attribute in the dataset, the decision tree algorithms forms a node, the most important attribute placed at the root. Evaluating starting from the root node, working our way down. This is continued untill a leaf-node is reached, which contains the outcome of the decision tree (prediction).\n",
    "\n",
    "- #### Random Forrest\n",
    "A random forest fits a number of Decision Tree classifiers on various sub-samples of the dataset and uses averaging to improve the predictive accuracy and control overfitting. "
   ]
  },
  {
   "cell_type": "code",
   "execution_count": 6,
   "metadata": {},
   "outputs": [],
   "source": [
    "models.append(('KNN', KNeighborsClassifier()))\n",
    "models.append(('SVM', SVC()))\n",
    "models.append(('CART', DecisionTreeClassifier()))\n",
    "models.append(('RAND', RandomForestClassifier()))\n",
    "seed =7\n",
    "scoring=\"accuracy\""
   ]
  },
  {
   "cell_type": "markdown",
   "metadata": {},
   "source": [
    "#### Overview Scaler, Normalizer, Algorithm\n",
    "Testing normalizer and scaler in combination with machine learning algorightms"
   ]
  },
  {
   "cell_type": "code",
   "execution_count": 7,
   "metadata": {},
   "outputs": [],
   "source": [
    "def test(data):\n",
    "    X=data.iloc[:,1:]\n",
    "    Y=data['label']     \n",
    "    for test, pre in pre_processing:\n",
    "        X= pre.fit_transform(X)\n",
    "        X_train, X_test, y_train, y_test = train_test_split(X, Y, test_size=0.25, random_state=seed)\n",
    "        notice=\"%s:\" %(test)\n",
    "        print(notice)\n",
    "        print(\"\")\n",
    "        for name, model in models:\n",
    "            kfold = model_selection.KFold(n_splits=10, random_state=7)\n",
    "            cv_results = model_selection.cross_val_score(model, X_train, y_train,cv=kfold, scoring=scoring)\n",
    "            results.append(cv_results)\n",
    "            names.append(name)\n",
    "            msg = \"%s: %f (%f)\" % (name, cv_results.mean(), cv_results.std())\n",
    "            print(\"|\" + msg)\n",
    "        print(\"__________________________\")"
   ]
  },
  {
   "cell_type": "code",
   "execution_count": 8,
   "metadata": {},
   "outputs": [
    {
     "name": "stdout",
     "output_type": "stream",
     "text": [
      "StandardScaler:\n",
      "\n",
      "|KNN: 0.948611 (0.017347)\n",
      "|SVM: 0.972917 (0.015667)\n",
      "|CART: 0.852778 (0.038889)\n",
      "|RAND: 0.939583 (0.015230)\n",
      "__________________________\n",
      "Normalizer:\n",
      "\n",
      "|KNN: 0.938194 (0.018750)\n",
      "|SVM: 0.915972 (0.024738)\n",
      "|CART: 0.839583 (0.025694)\n",
      "|RAND: 0.916667 (0.020127)\n",
      "__________________________\n",
      "MinMaxScaler:\n",
      "\n",
      "|KNN: 0.945139 (0.018750)\n",
      "|SVM: 0.946528 (0.017854)\n",
      "|CART: 0.843056 (0.029332)\n",
      "|RAND: 0.915972 (0.029373)\n",
      "__________________________\n"
     ]
    }
   ],
   "source": [
    "test(df_v8x8)"
   ]
  },
  {
   "cell_type": "code",
   "execution_count": 9,
   "metadata": {},
   "outputs": [
    {
     "name": "stdout",
     "output_type": "stream",
     "text": [
      "StandardScaler:\n",
      "\n",
      "|KNN: 0.964583 (0.016271)\n",
      "|SVM: 0.975694 (0.011305)\n",
      "|CART: 0.851389 (0.027639)\n",
      "|RAND: 0.940278 (0.014959)\n",
      "__________________________\n",
      "Normalizer:\n",
      "\n",
      "|KNN: 0.963889 (0.012729)\n",
      "|SVM: 0.937500 (0.018109)\n",
      "|CART: 0.837500 (0.024689)\n",
      "|RAND: 0.929167 (0.020787)\n",
      "__________________________\n",
      "MinMaxScaler:\n",
      "\n",
      "|KNN: 0.963194 (0.016739)\n",
      "|SVM: 0.952083 (0.016565)\n",
      "|CART: 0.827778 (0.027569)\n",
      "|RAND: 0.931944 (0.017513)\n",
      "__________________________\n"
     ]
    }
   ],
   "source": [
    "test(df_v8x8_manual1)"
   ]
  },
  {
   "cell_type": "code",
   "execution_count": 10,
   "metadata": {},
   "outputs": [
    {
     "name": "stdout",
     "output_type": "stream",
     "text": [
      "StandardScaler:\n",
      "\n",
      "|KNN: 0.948611 (0.017347)\n",
      "|SVM: 0.969444 (0.015897)\n",
      "|CART: 0.849306 (0.034028)\n",
      "|RAND: 0.940972 (0.026580)\n",
      "__________________________\n",
      "Normalizer:\n",
      "\n",
      "|KNN: 0.938194 (0.018750)\n",
      "|SVM: 0.923611 (0.023652)\n",
      "|CART: 0.841667 (0.031335)\n",
      "|RAND: 0.925000 (0.031944)\n",
      "__________________________\n",
      "MinMaxScaler:\n",
      "\n",
      "|KNN: 0.947917 (0.017081)\n",
      "|SVM: 0.947222 (0.017067)\n",
      "|CART: 0.840278 (0.030744)\n",
      "|RAND: 0.923611 (0.021064)\n",
      "__________________________\n"
     ]
    }
   ],
   "source": [
    "test(df_v8x8_manual2)"
   ]
  },
  {
   "cell_type": "code",
   "execution_count": 11,
   "metadata": {},
   "outputs": [
    {
     "name": "stdout",
     "output_type": "stream",
     "text": [
      "StandardScaler:\n",
      "\n",
      "|KNN: 0.960417 (0.011641)\n",
      "|SVM: 0.971528 (0.007250)\n",
      "|CART: 0.852083 (0.040972)\n",
      "|RAND: 0.944444 (0.015836)\n",
      "__________________________\n",
      "Normalizer:\n",
      "\n",
      "|KNN: 0.956944 (0.009722)\n",
      "|SVM: 0.931250 (0.031126)\n",
      "|CART: 0.838889 (0.026860)\n",
      "|RAND: 0.931944 (0.015775)\n",
      "__________________________\n",
      "MinMaxScaler:\n",
      "\n",
      "|KNN: 0.963194 (0.012442)\n",
      "|SVM: 0.945139 (0.026976)\n",
      "|CART: 0.836111 (0.027287)\n",
      "|RAND: 0.934028 (0.014316)\n",
      "__________________________\n"
     ]
    }
   ],
   "source": [
    "test(df_v8x8_sfm)"
   ]
  },
  {
   "cell_type": "code",
   "execution_count": 12,
   "metadata": {},
   "outputs": [
    {
     "name": "stdout",
     "output_type": "stream",
     "text": [
      "StandardScaler:\n",
      "\n",
      "|KNN: 0.967361 (0.013555)\n",
      "|SVM: 0.975000 (0.011283)\n",
      "|CART: 0.845833 (0.045411)\n",
      "|RAND: 0.934028 (0.018175)\n",
      "__________________________\n",
      "Normalizer:\n",
      "\n",
      "|KNN: 0.964583 (0.018228)\n",
      "|SVM: 0.929167 (0.025947)\n",
      "|CART: 0.831250 (0.016739)\n",
      "|RAND: 0.926389 (0.027812)\n",
      "__________________________\n",
      "MinMaxScaler:\n",
      "\n",
      "|KNN: 0.962500 (0.014633)\n",
      "|SVM: 0.949306 (0.018904)\n",
      "|CART: 0.830556 (0.012108)\n",
      "|RAND: 0.931250 (0.029208)\n",
      "__________________________\n"
     ]
    }
   ],
   "source": [
    "test(df_v8x8_kbest)"
   ]
  },
  {
   "cell_type": "markdown",
   "metadata": {},
   "source": [
    "##### Conclusion testing scaler and classifier\n",
    "- Test df_v8x8 (no fs): StandardScaler + SVM: 0.970833 (0.010668)\n",
    "- Test df_v8x8_manual1: StandardScaler + SVM: 0.975000 (0.011703)\n",
    "- Test df_v8x8_manual2: StandardScaler + SVM: 0.970139 (0.009845)\n",
    "- Test df_v8x8_sfm:     StandardScaler + SVM: 0.970833 (0.013819)\n",
    "- Test df_v8x8_kbest:   StandardScaler + SVM: 0.970833 (0.011948)\n",
    "\n",
    "The best combination of scaler and classifiers for our datasets is the StandardScaler and SVM classifier: with an average accuracy of 0.97. Overall, the highest accuracy was reached with the dataset df_v8x8_manual1."
   ]
  },
  {
   "cell_type": "markdown",
   "metadata": {},
   "source": [
    "### Applying GridSearchCV\n",
    "GridSearchCV is an exhaustive search over specified parameter values for an estimator. The paramters of the estimator used to apply these methods are optimized by cross-validated grid-search over a parameter grid.\n",
    "\n",
    "#### Find a parameter for SVM"
   ]
  },
  {
   "cell_type": "code",
   "execution_count": 1,
   "metadata": {},
   "outputs": [
    {
     "ename": "NameError",
     "evalue": "name 'Pipeline' is not defined",
     "output_type": "error",
     "traceback": [
      "\u001b[0;31m---------------------------------------------------------------------------\u001b[0m",
      "\u001b[0;31mNameError\u001b[0m                                 Traceback (most recent call last)",
      "\u001b[0;32m<ipython-input-1-51391119288b>\u001b[0m in \u001b[0;36m<module>\u001b[0;34m\u001b[0m\n\u001b[1;32m      1\u001b[0m \u001b[0;31m# Set up a pipeline\u001b[0m\u001b[0;34m\u001b[0m\u001b[0;34m\u001b[0m\u001b[0;34m\u001b[0m\u001b[0m\n\u001b[0;32m----> 2\u001b[0;31m pipeline = Pipeline([\n\u001b[0m\u001b[1;32m      3\u001b[0m     \u001b[0;34m(\u001b[0m\u001b[0;34m'normalizer'\u001b[0m\u001b[0;34m,\u001b[0m \u001b[0mStandardScaler\u001b[0m\u001b[0;34m(\u001b[0m\u001b[0;34m)\u001b[0m\u001b[0;34m)\u001b[0m\u001b[0;34m,\u001b[0m \u001b[0;31m#Step1 - normalize data\u001b[0m\u001b[0;34m\u001b[0m\u001b[0;34m\u001b[0m\u001b[0m\n\u001b[1;32m      4\u001b[0m     \u001b[0;34m(\u001b[0m\u001b[0;34m'clf'\u001b[0m\u001b[0;34m,\u001b[0m \u001b[0mSVC\u001b[0m\u001b[0;34m(\u001b[0m\u001b[0;34m)\u001b[0m\u001b[0;34m)\u001b[0m \u001b[0;31m#step2 - classifier\u001b[0m\u001b[0;34m\u001b[0m\u001b[0;34m\u001b[0m\u001b[0m\n\u001b[1;32m      5\u001b[0m ])\n",
      "\u001b[0;31mNameError\u001b[0m: name 'Pipeline' is not defined"
     ]
    }
   ],
   "source": [
    "# Set up a pipeline\n",
    "pipeline = Pipeline([\n",
    "    ('normalizer', StandardScaler()), #Step1 - normalize data\n",
    "    ('clf', SVC()) #step2 - classifier\n",
    "])\n",
    "\n",
    "# Split dataset into train set and test set\n",
    "X=df_v8x8_manual1.iloc[:,1:]\n",
    "y=df_v8x8_manual1['label'] \n",
    "X_train, X_test, y_train, y_test = train_test_split( X ,y, test_size=0.25, random_state=42)\n",
    "\n",
    "# test parameter \n",
    "scores = ['precision', 'recall']\n",
    "for score in scores:\n",
    "    print(\"Tuning hyper-parameters for %s\" % score)\n",
    "\n",
    "    clf = GridSearchCV(pipeline, param_grid = {\n",
    "    'clf__kernel' : ['linear', 'rbf'],\n",
    "    'clf__C' : [0.1, 10.]}, cv=5, scoring='%s_macro' % score)\n",
    "    clf.fit(X_train, y_train)\n",
    "    print(\"Best parameters set found on development set:\\n\")\n",
    "    print(clf.best_params_)\n",
    "    print(\"\\n\")\n",
    "    \n",
    "    print(\"Grid scores on development set:\\n\")\n",
    "    means = clf.cv_results_['mean_test_score']\n",
    "    stds = clf.cv_results_['std_test_score']\n",
    "    for mean, std, params in zip(means, stds, clf.cv_results_['params']):\n",
    "        print(\"%0.3f (+/-%0.03f) for %r\"\n",
    "              % (mean, std * 2, params))\n",
    " \n",
    "    print(\"\\nDetailed classification report:\\n\")\n",
    "    print(\"The model is trained on the full development set.\")\n",
    "    print(\"The scores are computed on the full evaluation set.\\n\")\n",
    "\n",
    "    y_pred =  clf.predict(X_test)\n",
    "    print(classification_report(y_test, y_pred))"
   ]
  },
  {
   "cell_type": "markdown",
   "metadata": {},
   "source": [
    "##### Find the best SVM estimator"
   ]
  },
  {
   "cell_type": "code",
   "execution_count": 14,
   "metadata": {},
   "outputs": [
    {
     "name": "stdout",
     "output_type": "stream",
     "text": [
      "Pipeline(memory=None,\n",
      "     steps=[('normalizer', StandardScaler(copy=True, with_mean=True, with_std=True)), ('clf', SVC(C=0.99999999999999989, cache_size=200, class_weight=None, coef0=0.0,\n",
      "  decision_function_shape='ovr', degree=3, gamma='auto', kernel='rbf',\n",
      "  max_iter=-1, probability=False, random_state=None, shrinking=True,\n",
      "  tol=0.001, verbose=False))])\n",
      "('This is the best score :', 0.97645287684107829)\n"
     ]
    }
   ],
   "source": [
    "print(clf.best_estimator_)\n",
    "print('This is the best score :', clf.best_score_)"
   ]
  },
  {
   "cell_type": "markdown",
   "metadata": {},
   "source": [
    "#### Find tje best parameter for KNN"
   ]
  },
  {
   "cell_type": "code",
   "execution_count": 15,
   "metadata": {},
   "outputs": [
    {
     "name": "stdout",
     "output_type": "stream",
     "text": [
      "[1, 2, 3, 4, 5, 6, 7, 8, 9, 10, 11, 12, 13, 14, 15, 16, 17, 18, 19, 20, 21, 22, 23, 24, 25, 26, 27, 28, 29, 30]\n",
      "{'n_neighbors': [1, 2, 3, 4, 5, 6, 7, 8, 9, 10, 11, 12, 13, 14, 15, 16, 17, 18, 19, 20, 21, 22, 23, 24, 25, 26, 27, 28, 29, 30]}\n"
     ]
    },
    {
     "data": {
      "text/plain": [
       "GridSearchCV(cv=10, error_score='raise',\n",
       "       estimator=KNeighborsClassifier(algorithm='auto', leaf_size=30, metric='minkowski',\n",
       "           metric_params=None, n_jobs=1, n_neighbors=5, p=2,\n",
       "           weights='uniform'),\n",
       "       fit_params=None, iid=True, n_jobs=1,\n",
       "       param_grid={'n_neighbors': [1, 2, 3, 4, 5, 6, 7, 8, 9, 10, 11, 12, 13, 14, 15, 16, 17, 18, 19, 20, 21, 22, 23, 24, 25, 26, 27, 28, 29, 30]},\n",
       "       pre_dispatch='2*n_jobs', refit=True, return_train_score='warn',\n",
       "       scoring='accuracy', verbose=0)"
      ]
     },
     "execution_count": 15,
     "metadata": {},
     "output_type": "execute_result"
    }
   ],
   "source": [
    "# define the parameter values that should be searched\n",
    "k_range = list(range(1, 31))\n",
    "print(k_range)\n",
    "\n",
    "# create a parametergrid dictionary, with parameter name (key) and list of values that should be searched (value)\n",
    "param_grid = dict(n_neighbors=k_range)\n",
    "print(param_grid)\n",
    "\n",
    "# instantiate the grid and fit the grid to the data\n",
    "grid = GridSearchCV(KNeighborsClassifier(), param_grid, cv=10, scoring='accuracy')\n",
    "grid.fit(X_train, y_train)\n"
   ]
  },
  {
   "cell_type": "markdown",
   "metadata": {},
   "source": [
    "The Grid object is ready to use 10-fold cross validation as evaluation metric. With this addition, the parameter grid needs to repeat the 10-fold cross validation process 30 times. Each time, the 'n_neighbors' will be given a value from the list\n",
    "    - GridSearchCV doesn't work on a list\n",
    "        - GridSearchCv only works on 1 through 30\n",
    "    - N_jobs=-1 runs computations in parallel"
   ]
  },
  {
   "cell_type": "code",
   "execution_count": 16,
   "metadata": {},
   "outputs": [
    {
     "name": "stderr",
     "output_type": "stream",
     "text": [
      "/usr/local/lib/python2.7/dist-packages/sklearn/model_selection/_search.py:762: DeprecationWarning: The grid_scores_ attribute was deprecated in version 0.18 in favor of the more elaborate cv_results_ attribute. The grid_scores_ attribute will not be available from 0.20\n",
      "  DeprecationWarning)\n"
     ]
    },
    {
     "data": {
      "text/plain": [
       "[mean: 0.92847, std: 0.02620, params: {'n_neighbors': 1},\n",
       " mean: 0.91736, std: 0.01904, params: {'n_neighbors': 2},\n",
       " mean: 0.93194, std: 0.01470, params: {'n_neighbors': 3},\n",
       " mean: 0.92361, std: 0.01652, params: {'n_neighbors': 4},\n",
       " mean: 0.92153, std: 0.01326, params: {'n_neighbors': 5},\n",
       " mean: 0.92431, std: 0.01857, params: {'n_neighbors': 6},\n",
       " mean: 0.92153, std: 0.01912, params: {'n_neighbors': 7},\n",
       " mean: 0.91736, std: 0.01258, params: {'n_neighbors': 8},\n",
       " mean: 0.91806, std: 0.01746, params: {'n_neighbors': 9},\n",
       " mean: 0.91528, std: 0.01800, params: {'n_neighbors': 10},\n",
       " mean: 0.91389, std: 0.02271, params: {'n_neighbors': 11},\n",
       " mean: 0.91111, std: 0.02017, params: {'n_neighbors': 12},\n",
       " mean: 0.91042, std: 0.02213, params: {'n_neighbors': 13},\n",
       " mean: 0.90417, std: 0.02028, params: {'n_neighbors': 14},\n",
       " mean: 0.90486, std: 0.02207, params: {'n_neighbors': 15},\n",
       " mean: 0.89722, std: 0.02266, params: {'n_neighbors': 16},\n",
       " mean: 0.90069, std: 0.02032, params: {'n_neighbors': 17},\n",
       " mean: 0.89653, std: 0.01998, params: {'n_neighbors': 18},\n",
       " mean: 0.89028, std: 0.02447, params: {'n_neighbors': 19},\n",
       " mean: 0.88958, std: 0.02346, params: {'n_neighbors': 20},\n",
       " mean: 0.88750, std: 0.02342, params: {'n_neighbors': 21},\n",
       " mean: 0.88194, std: 0.02169, params: {'n_neighbors': 22},\n",
       " mean: 0.88194, std: 0.02215, params: {'n_neighbors': 23},\n",
       " mean: 0.87986, std: 0.02234, params: {'n_neighbors': 24},\n",
       " mean: 0.88125, std: 0.02128, params: {'n_neighbors': 25},\n",
       " mean: 0.87917, std: 0.01941, params: {'n_neighbors': 26},\n",
       " mean: 0.87778, std: 0.02019, params: {'n_neighbors': 27},\n",
       " mean: 0.87500, std: 0.02036, params: {'n_neighbors': 28},\n",
       " mean: 0.87431, std: 0.02209, params: {'n_neighbors': 29},\n",
       " mean: 0.86944, std: 0.02198, params: {'n_neighbors': 30}]"
      ]
     },
     "execution_count": 16,
     "metadata": {},
     "output_type": "execute_result"
    }
   ],
   "source": [
    "# view the complete results (list of named tuples)\n",
    "grid.grid_scores_"
   ]
  },
  {
   "cell_type": "code",
   "execution_count": 17,
   "metadata": {},
   "outputs": [
    {
     "name": "stdout",
     "output_type": "stream",
     "text": [
      "Parameters\n",
      "{'n_neighbors': 1}\n",
      "\n",
      " CV Validation Score\n",
      "[ 0.90728477  0.93333333  0.93793103  0.9020979   0.90140845  0.9084507\n",
      "  0.9084507   0.94366197  0.97887324  0.96453901]\n",
      "\n",
      "Mean Validation Score\n",
      "0.928472222222\n"
     ]
    },
    {
     "name": "stderr",
     "output_type": "stream",
     "text": [
      "/usr/local/lib/python2.7/dist-packages/sklearn/model_selection/_search.py:762: DeprecationWarning: The grid_scores_ attribute was deprecated in version 0.18 in favor of the more elaborate cv_results_ attribute. The grid_scores_ attribute will not be available from 0.20\n",
      "  DeprecationWarning)\n",
      "/usr/local/lib/python2.7/dist-packages/sklearn/model_selection/_search.py:762: DeprecationWarning: The grid_scores_ attribute was deprecated in version 0.18 in favor of the more elaborate cv_results_ attribute. The grid_scores_ attribute will not be available from 0.20\n",
      "  DeprecationWarning)\n",
      "/usr/local/lib/python2.7/dist-packages/sklearn/model_selection/_search.py:762: DeprecationWarning: The grid_scores_ attribute was deprecated in version 0.18 in favor of the more elaborate cv_results_ attribute. The grid_scores_ attribute will not be available from 0.20\n",
      "  DeprecationWarning)\n"
     ]
    }
   ],
   "source": [
    "# examine the first tuple by slicing the list and selecting its elements\n",
    "print('Parameters')\n",
    "print(grid.grid_scores_[0].parameters)\n",
    "\n",
    "# Array of 10 accuracy scores during 10-fold cv using the parameters\n",
    "print('\\n CV Validation Score')\n",
    "print(grid.grid_scores_[0].cv_validation_scores)\n",
    "\n",
    "# Mean of the 10 scores\n",
    "print('\\nMean Validation Score')\n",
    "print(grid.grid_scores_[0].mean_validation_score)"
   ]
  },
  {
   "cell_type": "code",
   "execution_count": 18,
   "metadata": {},
   "outputs": [
    {
     "name": "stdout",
     "output_type": "stream",
     "text": [
      "[0.92847222222222225, 0.91736111111111107, 0.93194444444444446, 0.92361111111111116, 0.92152777777777772, 0.9243055555555556, 0.92152777777777772, 0.91736111111111107, 0.91805555555555551, 0.91527777777777775, 0.91388888888888886, 0.91111111111111109, 0.91041666666666665, 0.90416666666666667, 0.90486111111111112, 0.89722222222222225, 0.90069444444444446, 0.89652777777777781, 0.89027777777777772, 0.88958333333333328, 0.88749999999999996, 0.88194444444444442, 0.88194444444444442, 0.87986111111111109, 0.88124999999999998, 0.87916666666666665, 0.87777777777777777, 0.875, 0.87430555555555556, 0.86944444444444446]\n"
     ]
    },
    {
     "name": "stderr",
     "output_type": "stream",
     "text": [
      "/usr/local/lib/python2.7/dist-packages/sklearn/model_selection/_search.py:762: DeprecationWarning: The grid_scores_ attribute was deprecated in version 0.18 in favor of the more elaborate cv_results_ attribute. The grid_scores_ attribute will not be available from 0.20\n",
      "  DeprecationWarning)\n"
     ]
    }
   ],
   "source": [
    "# creating a list of the mean scores only using list comprehension to loop through grid.grid_scores\n",
    "grid_mean_scores = [result.mean_validation_score for result in grid.grid_scores_]\n",
    "print(grid_mean_scores)"
   ]
  },
  {
   "cell_type": "code",
   "execution_count": 19,
   "metadata": {},
   "outputs": [
    {
     "data": {
      "text/plain": [
       "Text(0,0.5,'Cross-Validated Accuracy')"
      ]
     },
     "execution_count": 19,
     "metadata": {},
     "output_type": "execute_result"
    },
    {
     "data": {
      "image/png": "[encoded data removed]",
      "text/plain": [
       "<Figure size 432x288 with 1 Axes>"
      ]
     },
     "metadata": {
      "needs_background": "light"
     },
     "output_type": "display_data"
    }
   ],
   "source": [
    "plt.plot(k_range, grid_mean_scores)\n",
    "plt.xlabel('Value of K for KNN')\n",
    "plt.ylabel('Cross-Validated Accuracy')"
   ]
  },
  {
   "cell_type": "code",
   "execution_count": 20,
   "metadata": {},
   "outputs": [
    {
     "name": "stdout",
     "output_type": "stream",
     "text": [
      "0.931944444444\n",
      "{'n_neighbors': 3}\n",
      "KNeighborsClassifier(algorithm='auto', leaf_size=30, metric='minkowski',\n",
      "           metric_params=None, n_jobs=1, n_neighbors=3, p=2,\n",
      "           weights='uniform')\n"
     ]
    }
   ],
   "source": [
    "# Single best score achieved across all params (k)\n",
    "print(grid.best_score_)\n",
    "\n",
    "# Dictionary containing the parameters (k) used to generate that score\n",
    "print(grid.best_params_)\n",
    "\n",
    "# Actual model object fit with those best parameters\n",
    "# Shows default parameters that we did not specify\n",
    "print(grid.best_estimator_)"
   ]
  },
  {
   "cell_type": "markdown",
   "metadata": {},
   "source": [
    "### Compare Confusion matrix per algorithm\n",
    "To evaluate the accuracy of the classification predictions done on our (test)dataset, we will plot the confusion matrix. The true label of the number is the y-axis, the predicted label is the x-axis. The prediction is done right when the true label equals the predicted label."
   ]
  },
  {
   "cell_type": "code",
   "execution_count": 21,
   "metadata": {},
   "outputs": [],
   "source": [
    "def plot_confusion_matrix(cm, classes):\n",
    "#     print(cm)\n",
    "    plt.imshow(cm, interpolation='nearest', cmap=plt.cm.Blues)\n",
    "    plt.title('Confusion matrix')\n",
    "    plt.colorbar()\n",
    "    tick_marks = np.arange(len(classes))\n",
    "    plt.xticks(tick_marks, classes, rotation=45)\n",
    "    plt.yticks(tick_marks, classes)\n",
    "\n",
    "    fmt = 'd'\n",
    "    thresh = cm.max() / 2.\n",
    "    for i, j in itertools.product(range(cm.shape[0]), range(cm.shape[1])):\n",
    "        plt.text(j, i, format(cm[i, j], fmt),\n",
    "                 horizontalalignment=\"center\",\n",
    "                 color=\"white\" if cm[i, j] > thresh else \"black\")\n",
    "\n",
    "    plt.ylabel('True label')\n",
    "    plt.xlabel('Predicted label')\n",
    "    plt.tight_layout()"
   ]
  },
  {
   "cell_type": "markdown",
   "metadata": {},
   "source": [
    "##### Plot SVM confusion matrix"
   ]
  },
  {
   "cell_type": "code",
   "execution_count": 22,
   "metadata": {},
   "outputs": [
    {
     "name": "stdout",
     "output_type": "stream",
     "text": [
      "Accuracy of the best classifier after CV is 96.875%\n"
     ]
    },
    {
     "data": {
      "image/png": "[encoded data removed]",
      "text/plain": [
       "<Figure size 432x288 with 2 Axes>"
      ]
     },
     "metadata": {
      "needs_background": "light"
     },
     "output_type": "display_data"
    }
   ],
   "source": [
    "# the final accuracy after gridsearch CV:\n",
    "accuracy = accuracy_score(y_test,y_pred)\n",
    "print('Accuracy of the best classifier after CV is %.3f%%' % (accuracy*100))\n",
    "\n",
    "# Confusion matrix of gridsearch model\n",
    "cnf_matrix = confusion_matrix(y_test, y_pred)\n",
    "np.set_printoptions(precision=2)\n",
    "plt.figure()\n",
    "plot_confusion_matrix(cnf_matrix, classes=range(0,10))\n",
    "plt.show()"
   ]
  },
  {
   "cell_type": "markdown",
   "metadata": {},
   "source": [
    "##### Plot KNN confusion matrix"
   ]
  },
  {
   "cell_type": "code",
   "execution_count": 23,
   "metadata": {},
   "outputs": [
    {
     "name": "stdout",
     "output_type": "stream",
     "text": [
      "Accuracy of the best classifier after CV is 90.833%\n"
     ]
    },
    {
     "data": {
      "image/png": "[encoded data removed]",
      "text/plain": [
       "<Figure size 432x288 with 2 Axes>"
      ]
     },
     "metadata": {
      "needs_background": "light"
     },
     "output_type": "display_data"
    }
   ],
   "source": [
    "y_predict_1 = grid.predict(X_test)\n",
    "accuracy_1 = accuracy_score(y_test,y_predict_1)\n",
    "print('Accuracy of the best classifier after CV is %.3f%%' % (accuracy_1*100))\n",
    "\n",
    "# Confusion matrix of gridsearch model\n",
    "cnf_matrix = confusion_matrix(y_test, y_predict_1)\n",
    "np.set_printoptions(precision=2)\n",
    "plt.figure()\n",
    "plot_confusion_matrix(cnf_matrix, classes=range(0,10))\n",
    "plt.show()"
   ]
  },
  {
   "cell_type": "markdown",
   "metadata": {},
   "source": [
    "#### Conclusion\n",
    "\n",
    "Comparing SVM and KNN after applying GridSearchCV to find the best hyperparameter, we can conclude that the SVM is the best suitable classifier for our assigment, with an accuracy of 96.875%. "
   ]
  },
  {
   "cell_type": "markdown",
   "metadata": {},
   "source": [
    "## Exporting Scaler and Classifier\n",
    "Using our answer from 'finding the best SVM estimator', since the standardscaler and SVM are the best model for our assignment.\n",
    "\n",
    "This is the final model of digits recognition, which is made by Sang and Nicky. This is the result after the testing phase. SVM is the chosen algorithm and the StandartScaler() for pre-processing phase.\n",
    "- Dataset: The chosen features consists of vision based features and 8x8 grid pixel features, using the manual feature selection(1) method explained in file _3. Clean data & Preprocessing Analysis_.\n",
    "- Pre-processing: Normalizing our data using the StandardScaler()\n",
    "- Classifier: SVM with the parameter (C=0.99999999999999989, kernel='rbf, gamma='auto'), which was proved in the testing phase because with this parameter we will have the highest accuracy"
   ]
  },
  {
   "cell_type": "raw",
   "metadata": {},
   "source": [
    "final_scaler = StandardScaler(copy=True, with_mean=True, with_std=True)\n",
    "final_classifier = SVC(C=0.99999999999999989, cache_size=200, class_weight=None, coef0=0.0,\n",
    "  decision_function_shape='ovr', degree=3, gamma='auto', kernel='rbf',\n",
    "  max_iter=-1, probability=False, random_state=None, shrinking=True,\n",
    "  tol=0.001, verbose=False)"
   ]
  },
  {
   "cell_type": "raw",
   "metadata": {},
   "source": [
    "X = df_v8x8_manual1.iloc[:,1:]\n",
    "Y = df_v8x8_manual1['label'] \n",
    "final_classifier.fit(X, Y)"
   ]
  },
  {
   "cell_type": "raw",
   "metadata": {},
   "source": [
    "joblib.dump(final_scaler, '../classifiers/final_scaler_std.joblib') \n",
    "joblib.dump(final_classifier, '../classifiers/final_classifier_svm.joblib') "
   ]
  },
  {
   "cell_type": "code",
   "execution_count": 24,
   "metadata": {},
   "outputs": [
    {
     "data": {
      "text/plain": [
       "['../classifiers/grid_scale_classifiers.joblib']"
      ]
     },
     "execution_count": 24,
     "metadata": {},
     "output_type": "execute_result"
    }
   ],
   "source": [
    "joblib.dump(clf.best_estimator_, '../classifiers/grid_scale_classifiers.joblib') "
   ]
  }
 ],
 "metadata": {
  "kernelspec": {
   "display_name": "Python 3",
   "language": "python",
   "name": "python3"
  },
  "language_info": {
   "codemirror_mode": {
    "name": "ipython",
    "version": 3
   },
   "file_extension": ".py",
   "mimetype": "text/x-python",
   "name": "python",
   "nbconvert_exporter": "python",
   "pygments_lexer": "ipython3",
   "version": "3.6.8"
  }
 },
 "nbformat": 4,
 "nbformat_minor": 2
}
