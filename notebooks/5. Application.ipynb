{
 "cells": [
  {
   "cell_type": "markdown",
   "metadata": {},
   "source": [
    "# Digit Recognition Application\n",
    "\n",
    "Run this application by navigating to the 'Kernel'-tab and select 'Restart and Run all'\n",
    "\n",
    "### Imports"
   ]
  },
  {
   "cell_type": "code",
   "execution_count": 1,
   "metadata": {},
   "outputs": [
    {
     "name": "stderr",
     "output_type": "stream",
     "text": [
      "/anaconda3/lib/python3.6/importlib/_bootstrap.py:219: RuntimeWarning: numpy.ufunc size changed, may indicate binary incompatibility. Expected 216, got 192\n",
      "  return f(*args, **kwds)\n"
     ]
    },
    {
     "ename": "RuntimeError",
     "evalue": "The current Numpy installation ('/anaconda3/lib/python3.6/site-packages/numpy/__init__.py') fails to pass simple sanity checks. This can be caused for example by incorrect BLAS library being linked in, or by mixing package managers (pip, conda, apt, ...). Search closed numpy issues for similar problems.",
     "output_type": "error",
     "traceback": [
      "\u001b[0;31m---------------------------------------------------------------------------\u001b[0m",
      "\u001b[0;31mAssertionError\u001b[0m                            Traceback (most recent call last)",
      "\u001b[0;32m/anaconda3/lib/python3.6/site-packages/numpy/__init__.py\u001b[0m in \u001b[0;36m_sanity_check\u001b[0;34m()\u001b[0m\n\u001b[1;32m    226\u001b[0m             \u001b[0;32mif\u001b[0m \u001b[0;32mnot\u001b[0m \u001b[0mabs\u001b[0m\u001b[0;34m(\u001b[0m\u001b[0mx\u001b[0m\u001b[0;34m.\u001b[0m\u001b[0mdot\u001b[0m\u001b[0;34m(\u001b[0m\u001b[0mx\u001b[0m\u001b[0;34m)\u001b[0m \u001b[0;34m-\u001b[0m \u001b[0;36m2.0\u001b[0m\u001b[0;34m)\u001b[0m \u001b[0;34m<\u001b[0m \u001b[0;36m1e-5\u001b[0m\u001b[0;34m:\u001b[0m\u001b[0;34m\u001b[0m\u001b[0m\n\u001b[0;32m--> 227\u001b[0;31m                 \u001b[0;32mraise\u001b[0m \u001b[0mAssertionError\u001b[0m\u001b[0;34m(\u001b[0m\u001b[0;34m)\u001b[0m\u001b[0;34m\u001b[0m\u001b[0m\n\u001b[0m\u001b[1;32m    228\u001b[0m         \u001b[0;32mexcept\u001b[0m \u001b[0mAssertionError\u001b[0m\u001b[0;34m:\u001b[0m\u001b[0;34m\u001b[0m\u001b[0m\n",
      "\u001b[0;31mAssertionError\u001b[0m: ",
      "\nDuring handling of the above exception, another exception occurred:\n",
      "\u001b[0;31mRuntimeError\u001b[0m                              Traceback (most recent call last)",
      "\u001b[0;32m<ipython-input-1-95b9280e6f09>\u001b[0m in \u001b[0;36m<module>\u001b[0;34m\u001b[0m\n\u001b[1;32m      1\u001b[0m \u001b[0;32mimport\u001b[0m \u001b[0mipywidgets\u001b[0m \u001b[0;32mas\u001b[0m \u001b[0mwidget\u001b[0m\u001b[0;34m\u001b[0m\u001b[0m\n\u001b[0;32m----> 2\u001b[0;31m \u001b[0;32mimport\u001b[0m \u001b[0mpandas\u001b[0m \u001b[0;32mas\u001b[0m \u001b[0mpd\u001b[0m\u001b[0;34m\u001b[0m\u001b[0m\n\u001b[0m\u001b[1;32m      3\u001b[0m \u001b[0;32mfrom\u001b[0m \u001b[0mos\u001b[0m \u001b[0;32mimport\u001b[0m \u001b[0mlistdir\u001b[0m\u001b[0;34m\u001b[0m\u001b[0m\n\u001b[1;32m      4\u001b[0m \u001b[0;32mfrom\u001b[0m \u001b[0mos\u001b[0m\u001b[0;34m.\u001b[0m\u001b[0mpath\u001b[0m \u001b[0;32mimport\u001b[0m \u001b[0misfile\u001b[0m\u001b[0;34m,\u001b[0m \u001b[0mjoin\u001b[0m\u001b[0;34m\u001b[0m\u001b[0m\n\u001b[1;32m      5\u001b[0m \u001b[0;34m\u001b[0m\u001b[0m\n",
      "\u001b[0;32m/anaconda3/lib/python3.6/site-packages/pandas/__init__.py\u001b[0m in \u001b[0;36m<module>\u001b[0;34m\u001b[0m\n\u001b[1;32m     11\u001b[0m \u001b[0;32mfor\u001b[0m \u001b[0mdependency\u001b[0m \u001b[0;32min\u001b[0m \u001b[0mhard_dependencies\u001b[0m\u001b[0;34m:\u001b[0m\u001b[0;34m\u001b[0m\u001b[0m\n\u001b[1;32m     12\u001b[0m     \u001b[0;32mtry\u001b[0m\u001b[0;34m:\u001b[0m\u001b[0;34m\u001b[0m\u001b[0m\n\u001b[0;32m---> 13\u001b[0;31m         \u001b[0m__import__\u001b[0m\u001b[0;34m(\u001b[0m\u001b[0mdependency\u001b[0m\u001b[0;34m)\u001b[0m\u001b[0;34m\u001b[0m\u001b[0m\n\u001b[0m\u001b[1;32m     14\u001b[0m     \u001b[0;32mexcept\u001b[0m \u001b[0mImportError\u001b[0m \u001b[0;32mas\u001b[0m \u001b[0me\u001b[0m\u001b[0;34m:\u001b[0m\u001b[0;34m\u001b[0m\u001b[0m\n\u001b[1;32m     15\u001b[0m         \u001b[0mmissing_dependencies\u001b[0m\u001b[0;34m.\u001b[0m\u001b[0mappend\u001b[0m\u001b[0;34m(\u001b[0m\u001b[0mdependency\u001b[0m\u001b[0;34m)\u001b[0m\u001b[0;34m\u001b[0m\u001b[0m\n",
      "\u001b[0;32m/anaconda3/lib/python3.6/site-packages/numpy/__init__.py\u001b[0m in \u001b[0;36m<module>\u001b[0;34m\u001b[0m\n\u001b[1;32m    234\u001b[0m             \u001b[0;32mraise\u001b[0m \u001b[0mRuntimeError\u001b[0m\u001b[0;34m(\u001b[0m\u001b[0mmsg\u001b[0m\u001b[0;34m.\u001b[0m\u001b[0mformat\u001b[0m\u001b[0;34m(\u001b[0m\u001b[0m__file__\u001b[0m\u001b[0;34m)\u001b[0m\u001b[0;34m)\u001b[0m\u001b[0;34m\u001b[0m\u001b[0m\n\u001b[1;32m    235\u001b[0m \u001b[0;34m\u001b[0m\u001b[0m\n\u001b[0;32m--> 236\u001b[0;31m     \u001b[0m_sanity_check\u001b[0m\u001b[0;34m(\u001b[0m\u001b[0;34m)\u001b[0m\u001b[0;34m\u001b[0m\u001b[0m\n\u001b[0m\u001b[1;32m    237\u001b[0m     \u001b[0;32mdel\u001b[0m \u001b[0m_sanity_check\u001b[0m\u001b[0;34m\u001b[0m\u001b[0m\n",
      "\u001b[0;32m/anaconda3/lib/python3.6/site-packages/numpy/__init__.py\u001b[0m in \u001b[0;36m_sanity_check\u001b[0;34m()\u001b[0m\n\u001b[1;32m    232\u001b[0m                    \u001b[0;34m\"package managers (pip, conda, apt, ...). Search closed \"\u001b[0m\u001b[0;34m\u001b[0m\u001b[0m\n\u001b[1;32m    233\u001b[0m                    \"numpy issues for similar problems.\")\n\u001b[0;32m--> 234\u001b[0;31m             \u001b[0;32mraise\u001b[0m \u001b[0mRuntimeError\u001b[0m\u001b[0;34m(\u001b[0m\u001b[0mmsg\u001b[0m\u001b[0;34m.\u001b[0m\u001b[0mformat\u001b[0m\u001b[0;34m(\u001b[0m\u001b[0m__file__\u001b[0m\u001b[0;34m)\u001b[0m\u001b[0;34m)\u001b[0m\u001b[0;34m\u001b[0m\u001b[0m\n\u001b[0m\u001b[1;32m    235\u001b[0m \u001b[0;34m\u001b[0m\u001b[0m\n\u001b[1;32m    236\u001b[0m     \u001b[0m_sanity_check\u001b[0m\u001b[0;34m(\u001b[0m\u001b[0;34m)\u001b[0m\u001b[0;34m\u001b[0m\u001b[0m\n",
      "\u001b[0;31mRuntimeError\u001b[0m: The current Numpy installation ('/anaconda3/lib/python3.6/site-packages/numpy/__init__.py') fails to pass simple sanity checks. This can be caused for example by incorrect BLAS library being linked in, or by mixing package managers (pip, conda, apt, ...). Search closed numpy issues for similar problems."
     ]
    }
   ],
   "source": [
    "import ipywidgets as widget\n",
    "import pandas as pd\n",
    "from os import listdir\n",
    "from os.path import isfile, join\n",
    "\n",
    "from SimpleCV import *\n",
    "from IPython.display import display\n",
    "from sklearn.externals import joblib"
   ]
  },
  {
   "cell_type": "raw",
   "metadata": {},
   "source": [
    "scaler = joblib.load('../classifiers/final_scaler_std.joblib')\n",
    "classifier = joblib.load('../classifiers/final_classifier_svm.joblib')\n"
   ]
  },
  {
   "cell_type": "code",
   "execution_count": 2,
   "metadata": {},
   "outputs": [
    {
     "name": "stdout",
     "output_type": "stream",
     "text": [
      "Index([u'label', u'number_of_holes', u'width', u'aspect_ratio', u'area',\n",
      "       u'angle', u'radius', u'contour', u'hull_radius', u'weight0_2',\n",
      "       u'weight1_2', u'weight2_2', u'weight3_2', u'weight4_2', u'weight5_2',\n",
      "       u'weight6_2', u'weight7_2', u'weight0_3', u'weight1_3', u'weight2_3',\n",
      "       u'weight3_3', u'weight4_3', u'weight5_3', u'weight6_3', u'weight7_3',\n",
      "       u'weight0_4', u'weight1_4', u'weight2_4', u'weight3_4', u'weight4_4',\n",
      "       u'weight5_4', u'weight6_4', u'weight7_4', u'weight0_5', u'weight1_5',\n",
      "       u'weight2_5', u'weight3_5', u'weight4_5', u'weight5_5', u'weight6_5',\n",
      "       u'weight7_5'],\n",
      "      dtype='object')\n"
     ]
    }
   ],
   "source": [
    "clf= joblib.load('../classifiers/grid_scale_classifiers.joblib')\n",
    "columns = pd.read_csv(\"../dataset-numpy/feature-selection/v8x8-manual1.csv\").drop('Unnamed: 0', axis=1).columns\n",
    "print(columns)"
   ]
  },
  {
   "cell_type": "markdown",
   "metadata": {},
   "source": [
    "1. Image Selection: Select one or more images containing postalcodes in a 128x32pixel image that you would like to predict the digits for. \n",
    "2. Image Seperation: For each image, seperate the digits.\n",
    "3. Feature Extraction: For each digit, extract the vision and pixel based features.\n",
    "4. Predict Digit: For each digit, normalize and scale it, then predict the digit using the classifier.\n",
    "5. Widget: For visual representation of uploading and predicting the digit."
   ]
  },
  {
   "cell_type": "code",
   "execution_count": 3,
   "metadata": {},
   "outputs": [],
   "source": [
    "disp = Display(displaytype='notebook')\n",
    "app = widget.Output()\n",
    "filepath = \"../dataset-images/\""
   ]
  },
  {
   "cell_type": "markdown",
   "metadata": {},
   "source": [
    "#### Select image features\n",
    "For more information, go to file _1. Feature Extraction_."
   ]
  },
  {
   "cell_type": "code",
   "execution_count": 4,
   "metadata": {},
   "outputs": [],
   "source": [
    "def get_amount_of_holes(image):\n",
    "    inverted = image.embiggen(2).invert()\n",
    "    \n",
    "    holes = 0\n",
    "    inv_blobs = inverted.findBlobs()\n",
    "    for blob in inv_blobs:\n",
    "        if blob.area() < 3721:\n",
    "            holes += 1\n",
    "    return(holes)\n",
    "\n",
    "def get_features_from_number(digit):\n",
    "    number = []\n",
    "    \n",
    "    # vision based features\n",
    "    blobs = digit.findBlobs()\n",
    "    number.append(get_amount_of_holes(digit))\n",
    "    \n",
    "    for blob in blobs:\n",
    "        number.append(blob.width())\n",
    "        number.append(blob.aspectRatio())\n",
    "        number.append(float(blob.area()))\n",
    "        number.append(blob.angle())\n",
    "        number.append(blob.radius())\n",
    "        number.append(len(blob.contour()))\n",
    "        number.append(blob.hullRadius())\n",
    "    \n",
    "    # pixel based features\n",
    "    THRESHOLD = 5\n",
    "    grid_cell_amount = 8\n",
    "    \n",
    "    matrix = get_amount_white_pixel_per_number(digit, grid_cell_amount, THRESHOLD)\n",
    "    for y in range(matrix.shape[1]):\n",
    "        for x in range(matrix.shape[0]):\n",
    "            number.append(matrix[x,y])\n",
    "        \n",
    "    return number\n",
    "\n",
    "def get_amount_white_pixel_per_number(image, grid_cell_amount, threshold):\n",
    "    grid_cell_size = 32 / grid_cell_amount\n",
    "    \n",
    "    matrix = np.zeros((grid_cell_amount, grid_cell_amount))\n",
    "    T = threshold\n",
    "    \n",
    "    for y in range(grid_cell_amount):\n",
    "        for x in range(grid_cell_amount):\n",
    "                grid_cell = image.crop(x * grid_cell_size, y * grid_cell_size, grid_cell_size, grid_cell_size)\n",
    "                pixel_arr = grid_cell.getNumpy() / 255\n",
    "                sum = (pixel_arr[:,:,0]).sum()\n",
    "                matrix[x][y] = sum if sum > T else 0\n",
    "    \n",
    "    # drop unnecessary weight columns (0_, 1_, 6_, 7_) - manual feature selection\n",
    "    matrix = matrix[2:-2, :]\n",
    "    \n",
    "    return matrix.T"
   ]
  },
  {
   "cell_type": "markdown",
   "metadata": {},
   "source": [
    "#### Seperate the selected image into individual numbers"
   ]
  },
  {
   "cell_type": "code",
   "execution_count": 5,
   "metadata": {},
   "outputs": [],
   "source": [
    "def process_image(image, filename):\n",
    "    processed_filename = filename.strip('../dataset-images/').rstrip('.png')\n",
    "    processed_image = image.binarize().dilate().erode()\n",
    "    \n",
    "    numbers = []\n",
    "    xpos = 0\n",
    "    for char in processed_filename:\n",
    "        crop = processed_image.crop(xpos, 0, 32, 32, centered=False)\n",
    "        xpos += 32    \n",
    "#         crop.save(disp)\n",
    "        number = [get_features_from_number(crop)]        \n",
    "        numbers.append(number)\n",
    "        \n",
    "    return numbers"
   ]
  },
  {
   "cell_type": "markdown",
   "metadata": {},
   "source": [
    "#### Create a dataframe from the numbers in the selected image"
   ]
  },
  {
   "cell_type": "code",
   "execution_count": 6,
   "metadata": {},
   "outputs": [],
   "source": [
    "def features_to_df(numbers):\n",
    "    \n",
    "    df = pd.DataFrame(numbers, columns=['number_of_holes', 'width', 'aspect_ratio', 'area', \\\n",
    "       'angle', 'radius', 'contour', 'hull_radius', 'weight0_2', \\\n",
    "       'weight1_2', 'weight2_2', 'weight3_2', 'weight4_2', 'weight5_2', \\\n",
    "       'weight6_2', 'weight7_2', 'weight0_3', 'weight1_3', 'weight2_3', \\\n",
    "       'weight3_3', 'weight4_3', 'weight5_3', 'weight6_3', 'weight7_3', \\\n",
    "       'weight0_4', 'weight1_4', 'weight2_4', 'weight3_4', 'weight4_4', \\\n",
    "       'weight5_4', 'weight6_4', 'weight7_4', 'weight0_5', 'weight1_5', \\\n",
    "       'weight2_5', 'weight3_5', 'weight4_5', 'weight5_5', 'weight6_5', \\\n",
    "       'weight7_5'])\n",
    "\n",
    "    return df\n"
   ]
  },
  {
   "cell_type": "markdown",
   "metadata": {},
   "source": [
    "#### Predict the label of the numbers from the selected image"
   ]
  },
  {
   "cell_type": "code",
   "execution_count": 7,
   "metadata": {},
   "outputs": [],
   "source": [
    "def predict(numbers):\n",
    "    features = features_to_df(numbers)\n",
    "   # scaled = pd.DataFrame(scaler.fit_transform(features), columns=features.columns)\n",
    "   # return classifier.predict(features)\n",
    "    return clf.predict(features)"
   ]
  },
  {
   "cell_type": "markdown",
   "metadata": {},
   "source": [
    "#### Application logic\n",
    "Initiate the base. When an image is selected it will start to predict (on_value_change) the postalcode. "
   ]
  },
  {
   "cell_type": "code",
   "execution_count": 8,
   "metadata": {},
   "outputs": [],
   "source": [
    "def on_value_change(change):\n",
    "    app.clear_output(wait=True)\n",
    "    init_select()\n",
    "    \n",
    "    file = open(str(filepath + change['new']))\n",
    "    image = file.read()\n",
    "    selected_image = widget.Image(value=image, format='png', width=128, height=32)\n",
    "    \n",
    "    digits = process_image(Image(filepath + change['new']), Image(filepath + change['new']).filename)\n",
    "    postal = ''\n",
    "    \n",
    "    for d in digits:\n",
    "        postal += str(predict(d)[0])\n",
    "        \n",
    "    postal_code = widget.Label(value=\"Predicted postal code: \" + postal)\n",
    "    display(selected_image, postal_code)\n",
    "    \n",
    "\n",
    "def init_select():\n",
    "    images = [img for img in listdir(filepath) if isfile(join(filepath, img))]\n",
    "    \n",
    "    dropdown = widget.Dropdown(options=[\"\"]+images, disabled=False)\n",
    "    dropdown.observe(on_value_change, names='value')\n",
    "    \n",
    "    select_one_image = widget.Box([widget.Label(value=\"Select an image: \"), dropdown])\n",
    "\n",
    "    display(select_one_image)\n",
    "\n",
    "with app:\n",
    "    init_select()"
   ]
  },
  {
   "cell_type": "markdown",
   "metadata": {},
   "source": [
    "# Digit Recognition Application\n",
    "\n",
    "To predict a postal code using image recognition:\n",
    "1. Add the images _(128x32pixels, format .png)_ you want to predict to the folder _\"../dataset-images/\"_\n",
    "2. Run this Notebook by clicking \"Kernel\" --> \"Restart & Run All\"\n",
    "3. In the app below, select the image you would like to predict the postal code for."
   ]
  },
  {
   "cell_type": "code",
   "execution_count": 9,
   "metadata": {},
   "outputs": [
    {
     "data": {
      "application/vnd.jupyter.widget-view+json": {
       "model_id": "94eb1a49888445c0aed985c945ea5078",
       "version_major": 2,
       "version_minor": 0
      },
      "text/plain": [
       "Output()"
      ]
     },
     "metadata": {},
     "output_type": "display_data"
    }
   ],
   "source": [
    "app"
   ]
  }
 ],
 "metadata": {
  "kernelspec": {
   "display_name": "Python 3",
   "language": "python",
   "name": "python3"
  },
  "language_info": {
   "codemirror_mode": {
    "name": "ipython",
    "version": 3
   },
   "file_extension": ".py",
   "mimetype": "text/x-python",
   "name": "python",
   "nbconvert_exporter": "python",
   "pygments_lexer": "ipython3",
   "version": "3.7.3"
  }
 },
 "nbformat": 4,
 "nbformat_minor": 2
}
