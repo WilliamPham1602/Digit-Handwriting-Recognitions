{
 "cells": [
  {
   "cell_type": "markdown",
   "metadata": {},
   "source": [
    "# IPython Widgets example\n",
    "Two examples of using ipython widgets in the notebook.\n",
    "1. Example with combobox and button\n",
    "2. Example with matplotlib and range slider"
   ]
  },
  {
   "cell_type": "code",
   "execution_count": 1,
   "metadata": {},
   "outputs": [
    {
     "data": {
      "application/vnd.jupyter.widget-view+json": {
       "model_id": "e5c024db222e48afbcce9d156a37a9c2",
       "version_major": 2,
       "version_minor": 0
      },
      "text/plain": [
       "RHJvcGRvd24oZGVzY3JpcHRpb249dSdGaWxlOicsIG9wdGlvbnM9KCcuLi8uLi9kYXRhc2V0LWltYWdlcy83NTk5LnBuZycsICcuLi8uLi9kYXRhc2V0LWltYWdlcy83NjIwLnBuZycsICcuLi/igKY=\n"
      ]
     },
     "metadata": {},
     "output_type": "display_data"
    },
    {
     "data": {
      "application/vnd.jupyter.widget-view+json": {
       "model_id": "d83095602cdd42d3b3d93113013d9068",
       "version_major": 2,
       "version_minor": 0
      },
      "text/plain": [
       "Button(description=u'Run', style=ButtonStyle())"
      ]
     },
     "metadata": {},
     "output_type": "display_data"
    },
    {
     "data": {
      "image/png": "[encoded data removed]",
      "text/plain": [
       "<IPython.core.display.Image object>"
      ]
     },
     "metadata": {},
     "output_type": "display_data"
    }
   ],
   "source": [
    "from SimpleCV import *\n",
    "from ipywidgets import widgets\n",
    "from IPython.display import display\n",
    "\n",
    "# Display for showing images\n",
    "disp = Display(displaytype='notebook')\n",
    "\n",
    "# Find all png files in a folder\n",
    "files = glob.glob(os.path.join(\"../../dataset-images/\", \"*.png\"))\n",
    "\n",
    "# Create a dropdown\n",
    "file_selection = widgets.Dropdown(\n",
    "    options=files,\n",
    "    description='File:'\n",
    ")\n",
    "\n",
    "# Create a button\n",
    "button = widgets.Button(description=\"Run\")\n",
    "\n",
    "# Add buttons to notebook\n",
    "display(file_selection)\n",
    "display(button)\n",
    "\n",
    "# Actions for components\n",
    "def on_button_clicked(b):\n",
    "    file = file_selection.value\n",
    "    img = Image(file)\n",
    "    img = img.binarize()\n",
    "    img.save(disp)\n",
    "    \n",
    "# Bind button click to action\n",
    "button.on_click(on_button_clicked)"
   ]
  },
  {
   "cell_type": "code",
   "execution_count": null,
   "metadata": {},
   "outputs": [],
   "source": []
  }
 ],
 "metadata": {
  "kernelspec": {
   "display_name": "Python 2",
   "language": "python",
   "name": "python2"
  },
  "language_info": {
   "codemirror_mode": {
    "name": "ipython",
    "version": 2
   },
   "file_extension": ".py",
   "mimetype": "text/x-python",
   "name": "python",
   "nbconvert_exporter": "python",
   "pygments_lexer": "ipython2",
   "version": "2.7.12"
  }
 },
 "nbformat": 4,
 "nbformat_minor": 2
}
